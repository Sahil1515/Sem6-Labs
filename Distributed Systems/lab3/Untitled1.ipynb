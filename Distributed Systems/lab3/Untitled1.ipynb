{
 "cells": [
  {
   "cell_type": "markdown",
   "id": "broke-belgium",
   "metadata": {},
   "source": [
    "## Sahil Saini Salaria \n",
    "## Reg No : 180905048\n",
    "## Roll No 11 C\n",
    "## Lab3"
   ]
  },
  {
   "cell_type": "markdown",
   "id": "likely-expert",
   "metadata": {},
   "source": [
    "## Q1 Write a program to find the factors of a given number (get input from user) using for loop."
   ]
  },
  {
   "cell_type": "code",
   "execution_count": 1,
   "id": "alien-flood",
   "metadata": {},
   "outputs": [
    {
     "name": "stdout",
     "output_type": "stream",
     "text": [
      "Enter Number:30\n",
      "The factors of 30 are:\n",
      "1\n",
      "2\n",
      "3\n",
      "5\n",
      "6\n",
      "10\n",
      "15\n",
      "30\n"
     ]
    }
   ],
   "source": [
    "def print_factors(x):\n",
    "   print(\"The factors of\",x,\"are:\")\n",
    "   for i in range(1, x + 1):\n",
    "       if x % i == 0:\n",
    "           print(i)\n",
    "            \n",
    "num=int(input(\"Enter Number:\"))\n",
    "print_factors(num)\n"
   ]
  },
  {
   "cell_type": "markdown",
   "id": "rocky-starter",
   "metadata": {},
   "source": [
    "## Q2 Find the sum of columns and rows using axis"
   ]
  },
  {
   "cell_type": "code",
   "execution_count": 5,
   "id": "tough-opening",
   "metadata": {},
   "outputs": [
    {
     "name": "stdout",
     "output_type": "stream",
     "text": [
      "[10 35 60 85]\n",
      "[30 34 38 42 46]\n"
     ]
    }
   ],
   "source": [
    "import numpy as np\n",
    "a=np.arange(20).reshape(4,5)\n",
    "print(a.sum(axis=1))\n",
    "print(a.sum(axis=0))"
   ]
  },
  {
   "cell_type": "markdown",
   "id": "large-cigarette",
   "metadata": {},
   "source": [
    "## Q3     3. Operations on Arrays (use numpy wherever required):\n",
    "    a) Create array from list with type float\n",
    "    b) Create array from tuple\n",
    "    c) Creating a 3X4 array with all zeros\n",
    "    d) Create a sequence of integers  from 0 to 20 with steps of 5\n",
    "    e)  Reshape 3X4 array to 2X2X3 array\n",
    "    f) Find maximum and minimum element of array, Row wise max and min, column wise max and min and sum of elements. (Use functions max(), min(), sum())"
   ]
  },
  {
   "cell_type": "code",
   "execution_count": null,
   "id": "broadband-voltage",
   "metadata": {},
   "outputs": [],
   "source": [
    "# a"
   ]
  },
  {
   "cell_type": "code",
   "execution_count": 9,
   "id": "designed-rugby",
   "metadata": {},
   "outputs": [
    {
     "data": {
      "text/plain": [
       "dtype('float64')"
      ]
     },
     "execution_count": 9,
     "metadata": {},
     "output_type": "execute_result"
    }
   ],
   "source": [
    "a=np.array([1,2,3,4.0])\n",
    "a.dtype"
   ]
  },
  {
   "cell_type": "code",
   "execution_count": null,
   "id": "living-international",
   "metadata": {},
   "outputs": [],
   "source": [
    "# b"
   ]
  },
  {
   "cell_type": "code",
   "execution_count": 11,
   "id": "systematic-protocol",
   "metadata": {},
   "outputs": [
    {
     "data": {
      "text/plain": [
       "dtype('float64')"
      ]
     },
     "execution_count": 11,
     "metadata": {},
     "output_type": "execute_result"
    }
   ],
   "source": [
    "a=np.array((1,2,3,4.0))\n",
    "a.dtype"
   ]
  },
  {
   "cell_type": "code",
   "execution_count": null,
   "id": "collected-omaha",
   "metadata": {},
   "outputs": [],
   "source": [
    "# c"
   ]
  },
  {
   "cell_type": "code",
   "execution_count": 13,
   "id": "democratic-moral",
   "metadata": {},
   "outputs": [
    {
     "data": {
      "text/plain": [
       "array([[0., 0., 0., 0.],\n",
       "       [0., 0., 0., 0.],\n",
       "       [0., 0., 0., 0.]])"
      ]
     },
     "execution_count": 13,
     "metadata": {},
     "output_type": "execute_result"
    }
   ],
   "source": [
    "np.zeros(12).reshape(3,4)"
   ]
  },
  {
   "cell_type": "code",
   "execution_count": null,
   "id": "mature-winner",
   "metadata": {},
   "outputs": [],
   "source": [
    "# d"
   ]
  },
  {
   "cell_type": "code",
   "execution_count": 15,
   "id": "spoken-membrane",
   "metadata": {},
   "outputs": [
    {
     "data": {
      "text/plain": [
       "array([ 0,  5, 10, 15])"
      ]
     },
     "execution_count": 15,
     "metadata": {},
     "output_type": "execute_result"
    }
   ],
   "source": [
    "a=np.arange(0,20,5)\n",
    "a"
   ]
  },
  {
   "cell_type": "code",
   "execution_count": 2,
   "id": "facial-nevada",
   "metadata": {},
   "outputs": [],
   "source": [
    "# e"
   ]
  },
  {
   "cell_type": "code",
   "execution_count": 19,
   "id": "banned-client",
   "metadata": {},
   "outputs": [
    {
     "data": {
      "text/plain": [
       "array([[[ 0,  1,  2],\n",
       "        [ 3,  4,  5]],\n",
       "\n",
       "       [[ 6,  7,  8],\n",
       "        [ 9, 10, 11]]])"
      ]
     },
     "execution_count": 19,
     "metadata": {},
     "output_type": "execute_result"
    }
   ],
   "source": [
    "a=np.arange(12).reshape(3,4).reshape(2,2,3)\n",
    "a"
   ]
  },
  {
   "cell_type": "code",
   "execution_count": 7,
   "id": "annoying-surprise",
   "metadata": {},
   "outputs": [],
   "source": [
    "# f"
   ]
  },
  {
   "cell_type": "code",
   "execution_count": 6,
   "id": "electric-grove",
   "metadata": {},
   "outputs": [
    {
     "data": {
      "text/plain": [
       "array([12, 15, 18, 21])"
      ]
     },
     "execution_count": 6,
     "metadata": {},
     "output_type": "execute_result"
    }
   ],
   "source": [
    "a=np.arange(12).reshape(3,4)\n",
    "a.sum(axis=0)"
   ]
  },
  {
   "cell_type": "code",
   "execution_count": 8,
   "id": "optional-alliance",
   "metadata": {},
   "outputs": [
    {
     "data": {
      "text/plain": [
       "array([ 6, 22, 38])"
      ]
     },
     "execution_count": 8,
     "metadata": {},
     "output_type": "execute_result"
    }
   ],
   "source": [
    "a.sum(axis=1)"
   ]
  },
  {
   "cell_type": "code",
   "execution_count": 9,
   "id": "practical-patrol",
   "metadata": {
    "scrolled": true
   },
   "outputs": [
    {
     "data": {
      "text/plain": [
       "array([ 8,  9, 10, 11])"
      ]
     },
     "execution_count": 9,
     "metadata": {},
     "output_type": "execute_result"
    }
   ],
   "source": [
    "a.max(axis=0)"
   ]
  },
  {
   "cell_type": "code",
   "execution_count": 10,
   "id": "ethical-equipment",
   "metadata": {},
   "outputs": [
    {
     "data": {
      "text/plain": [
       "array([ 3,  7, 11])"
      ]
     },
     "execution_count": 10,
     "metadata": {},
     "output_type": "execute_result"
    }
   ],
   "source": [
    "a.max(axis=1)"
   ]
  },
  {
   "cell_type": "code",
   "execution_count": 11,
   "id": "duplicate-eleven",
   "metadata": {
    "scrolled": true
   },
   "outputs": [
    {
     "data": {
      "text/plain": [
       "array([0, 1, 2, 3])"
      ]
     },
     "execution_count": 11,
     "metadata": {},
     "output_type": "execute_result"
    }
   ],
   "source": [
    "a.min(axis=0)"
   ]
  },
  {
   "cell_type": "code",
   "execution_count": 12,
   "id": "earlier-corner",
   "metadata": {},
   "outputs": [
    {
     "data": {
      "text/plain": [
       "array([0, 4, 8])"
      ]
     },
     "execution_count": 12,
     "metadata": {},
     "output_type": "execute_result"
    }
   ],
   "source": [
    "a.min(axis=1)"
   ]
  },
  {
   "cell_type": "markdown",
   "id": "nuclear-parent",
   "metadata": {},
   "source": [
    "## Q4 Write a program to transpose a given matrix. "
   ]
  },
  {
   "cell_type": "code",
   "execution_count": 30,
   "id": "duplicate-exhibition",
   "metadata": {},
   "outputs": [
    {
     "data": {
      "text/plain": [
       "array([[ 0,  1,  2,  3,  4],\n",
       "       [ 5,  6,  7,  8,  9],\n",
       "       [10, 11, 12, 13, 14],\n",
       "       [15, 16, 17, 18, 19],\n",
       "       [20, 21, 22, 23, 24]])"
      ]
     },
     "execution_count": 30,
     "metadata": {},
     "output_type": "execute_result"
    }
   ],
   "source": [
    "a=np.arange(25).reshape(5,5)\n",
    "a"
   ]
  },
  {
   "cell_type": "code",
   "execution_count": 31,
   "id": "demographic-grammar",
   "metadata": {},
   "outputs": [
    {
     "data": {
      "text/plain": [
       "array([[ 0,  5, 10, 15, 20],\n",
       "       [ 1,  6, 11, 16, 21],\n",
       "       [ 2,  7, 12, 17, 22],\n",
       "       [ 3,  8, 13, 18, 23],\n",
       "       [ 4,  9, 14, 19, 24]])"
      ]
     },
     "execution_count": 31,
     "metadata": {},
     "output_type": "execute_result"
    }
   ],
   "source": [
    "s1=0\n",
    "for i in range(0,len(a)):\n",
    "    for j in range(0,len(a[0])):\n",
    "        if(i>j):\n",
    "            temp=a[i][j]\n",
    "            a[i][j]=a[j][i]\n",
    "            a[j][i]=temp\n",
    "a"
   ]
  },
  {
   "cell_type": "code",
   "execution_count": 36,
   "id": "elegant-redhead",
   "metadata": {},
   "outputs": [],
   "source": [
    "#OR"
   ]
  },
  {
   "cell_type": "code",
   "execution_count": 34,
   "id": "prepared-article",
   "metadata": {},
   "outputs": [
    {
     "data": {
      "text/plain": [
       "array([[ 0,  1,  2,  3,  4],\n",
       "       [ 5,  6,  7,  8,  9],\n",
       "       [10, 11, 12, 13, 14],\n",
       "       [15, 16, 17, 18, 19],\n",
       "       [20, 21, 22, 23, 24]])"
      ]
     },
     "execution_count": 34,
     "metadata": {},
     "output_type": "execute_result"
    }
   ],
   "source": [
    "a"
   ]
  },
  {
   "cell_type": "code",
   "execution_count": 35,
   "id": "acute-mapping",
   "metadata": {},
   "outputs": [
    {
     "data": {
      "text/plain": [
       "array([[ 0,  5, 10, 15, 20],\n",
       "       [ 1,  6, 11, 16, 21],\n",
       "       [ 2,  7, 12, 17, 22],\n",
       "       [ 3,  8, 13, 18, 23],\n",
       "       [ 4,  9, 14, 19, 24]])"
      ]
     },
     "execution_count": 35,
     "metadata": {},
     "output_type": "execute_result"
    }
   ],
   "source": [
    "a.T"
   ]
  },
  {
   "cell_type": "markdown",
   "id": "covered-possession",
   "metadata": {},
   "source": [
    "## Q5 Write a program to add two matrices."
   ]
  },
  {
   "cell_type": "code",
   "execution_count": 40,
   "id": "activated-thought",
   "metadata": {
    "scrolled": true
   },
   "outputs": [
    {
     "data": {
      "text/plain": [
       "array([[ 0.,  2.,  4.,  6.,  8.],\n",
       "       [10., 12., 14., 16., 18.],\n",
       "       [20., 22., 24., 26., 28.],\n",
       "       [30., 32., 34., 36., 38.],\n",
       "       [40., 42., 44., 46., 48.]])"
      ]
     },
     "execution_count": 40,
     "metadata": {},
     "output_type": "execute_result"
    }
   ],
   "source": [
    "a=np.arange(25).reshape(5,5)\n",
    "b=np.arange(25).reshape(5,5)\n",
    "res=np.zeros(25).reshape(5,5)\n",
    "\n",
    "for i in range(0,len(a)):\n",
    "    for j in range(0,len(a[0])):\n",
    "        res[i][j]=a[i][j]+b[i][j]\n",
    "res"
   ]
  },
  {
   "cell_type": "code",
   "execution_count": 45,
   "id": "human-infection",
   "metadata": {},
   "outputs": [
    {
     "data": {
      "text/plain": [
       "array([[ 0,  2,  4,  6,  8],\n",
       "       [10, 12, 14, 16, 18],\n",
       "       [20, 22, 24, 26, 28],\n",
       "       [30, 32, 34, 36, 38],\n",
       "       [40, 42, 44, 46, 48]])"
      ]
     },
     "execution_count": 45,
     "metadata": {},
     "output_type": "execute_result"
    }
   ],
   "source": [
    "res=a+b\n",
    "res"
   ]
  },
  {
   "cell_type": "markdown",
   "id": "associate-conjunction",
   "metadata": {},
   "source": [
    "## Q6 Write a program to find element wise product between two matrices."
   ]
  },
  {
   "cell_type": "code",
   "execution_count": 47,
   "id": "least-consent",
   "metadata": {},
   "outputs": [
    {
     "data": {
      "text/plain": [
       "array([[  0.,   1.,   4.,   9.,  16.],\n",
       "       [ 25.,  36.,  49.,  64.,  81.],\n",
       "       [100., 121., 144., 169., 196.],\n",
       "       [225., 256., 289., 324., 361.],\n",
       "       [400., 441., 484., 529., 576.]])"
      ]
     },
     "execution_count": 47,
     "metadata": {},
     "output_type": "execute_result"
    }
   ],
   "source": [
    "a=np.arange(25).reshape(5,5)\n",
    "b=np.arange(25).reshape(5,5)\n",
    "res=np.zeros(25).reshape(5,5)\n",
    "\n",
    "for i in range(0,len(a)):\n",
    "    for j in range(0,len(a[0])):\n",
    "        res[i][j]=a[i][j]*b[i][j]\n",
    "res"
   ]
  },
  {
   "cell_type": "code",
   "execution_count": 49,
   "id": "dietary-consumer",
   "metadata": {},
   "outputs": [
    {
     "data": {
      "text/plain": [
       "array([[  0,   1,   4,   9,  16],\n",
       "       [ 25,  36,  49,  64,  81],\n",
       "       [100, 121, 144, 169, 196],\n",
       "       [225, 256, 289, 324, 361],\n",
       "       [400, 441, 484, 529, 576]])"
      ]
     },
     "execution_count": 49,
     "metadata": {},
     "output_type": "execute_result"
    }
   ],
   "source": [
    "# OR\n",
    "\n",
    "res=a*b\n",
    "res"
   ]
  },
  {
   "cell_type": "markdown",
   "id": "authorized-optics",
   "metadata": {},
   "source": [
    "## ENDS"
   ]
  },
  {
   "cell_type": "code",
   "execution_count": null,
   "id": "forced-difference",
   "metadata": {},
   "outputs": [],
   "source": []
  }
 ],
 "metadata": {
  "kernelspec": {
   "display_name": "Python 3",
   "language": "python",
   "name": "python3"
  },
  "language_info": {
   "codemirror_mode": {
    "name": "ipython",
    "version": 3
   },
   "file_extension": ".py",
   "mimetype": "text/x-python",
   "name": "python",
   "nbconvert_exporter": "python",
   "pygments_lexer": "ipython3",
   "version": "3.8.5"
  }
 },
 "nbformat": 4,
 "nbformat_minor": 5
}
