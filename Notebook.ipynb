{
  "nbformat": 4,
  "nbformat_minor": 0,
  "metadata": {
    "colab": {
      "name": "Notebook.ipynb",
      "provenance": [],
      "collapsed_sections": []
    },
    "kernelspec": {
      "name": "python3",
      "display_name": "Python 3"
    }
  },
  "cells": [
    {
      "cell_type": "code",
      "metadata": {
        "colab": {
          "base_uri": "https://localhost:8080/"
        },
        "id": "WIp54Kdo42vG",
        "outputId": "3a4c83aa-3759-42de-806d-f273a12f15c7"
      },
      "source": [
        "import pandas as pd\n",
        "import numpy as np\n",
        "\n",
        "\n",
        "s=pd.Series([1,2,3,6,5,4])\n",
        "print(s)"
      ],
      "execution_count": null,
      "outputs": [
        {
          "output_type": "stream",
          "text": [
            "0    1\n",
            "1    2\n",
            "2    3\n",
            "3    6\n",
            "4    5\n",
            "5    4\n",
            "dtype: int64\n"
          ],
          "name": "stdout"
        }
      ]
    },
    {
      "cell_type": "code",
      "metadata": {
        "id": "PgtskFns5fyj"
      },
      "source": [
        "sum=s.sum()"
      ],
      "execution_count": null,
      "outputs": []
    },
    {
      "cell_type": "code",
      "metadata": {
        "colab": {
          "base_uri": "https://localhost:8080/"
        },
        "id": "yDFzEsLQ5nmr",
        "outputId": "17fd2ffa-e0f4-427a-ccbe-2cffddc2ab1c"
      },
      "source": [
        "s.min()"
      ],
      "execution_count": null,
      "outputs": [
        {
          "output_type": "execute_result",
          "data": {
            "text/plain": [
              "1"
            ]
          },
          "metadata": {
            "tags": []
          },
          "execution_count": 5
        }
      ]
    },
    {
      "cell_type": "code",
      "metadata": {
        "colab": {
          "base_uri": "https://localhost:8080/"
        },
        "id": "6mxMzOKL5nvE",
        "outputId": "829ee5ab-f16b-418e-8c0f-01c72066fa0b"
      },
      "source": [
        "s.max()"
      ],
      "execution_count": null,
      "outputs": [
        {
          "output_type": "execute_result",
          "data": {
            "text/plain": [
              "6"
            ]
          },
          "metadata": {
            "tags": []
          },
          "execution_count": 7
        }
      ]
    },
    {
      "cell_type": "code",
      "metadata": {
        "colab": {
          "base_uri": "https://localhost:8080/",
          "height": 143
        },
        "id": "Px73hYhO5sph",
        "outputId": "d421055b-68ef-4891-cda3-20433aff3d4f"
      },
      "source": [
        "import pandas as pd\n",
        "\n",
        "data=[['Dinesh',10],['Nithya',12],['Raji',13]]\n",
        "df=pd.DataFrame(data,columns=['name','age'])\n",
        "df"
      ],
      "execution_count": null,
      "outputs": [
        {
          "output_type": "execute_result",
          "data": {
            "text/html": [
              "<div>\n",
              "<style scoped>\n",
              "    .dataframe tbody tr th:only-of-type {\n",
              "        vertical-align: middle;\n",
              "    }\n",
              "\n",
              "    .dataframe tbody tr th {\n",
              "        vertical-align: top;\n",
              "    }\n",
              "\n",
              "    .dataframe thead th {\n",
              "        text-align: right;\n",
              "    }\n",
              "</style>\n",
              "<table border=\"1\" class=\"dataframe\">\n",
              "  <thead>\n",
              "    <tr style=\"text-align: right;\">\n",
              "      <th></th>\n",
              "      <th>name</th>\n",
              "      <th>age</th>\n",
              "    </tr>\n",
              "  </thead>\n",
              "  <tbody>\n",
              "    <tr>\n",
              "      <th>0</th>\n",
              "      <td>Dinesh</td>\n",
              "      <td>10</td>\n",
              "    </tr>\n",
              "    <tr>\n",
              "      <th>1</th>\n",
              "      <td>Nithya</td>\n",
              "      <td>12</td>\n",
              "    </tr>\n",
              "    <tr>\n",
              "      <th>2</th>\n",
              "      <td>Raji</td>\n",
              "      <td>13</td>\n",
              "    </tr>\n",
              "  </tbody>\n",
              "</table>\n",
              "</div>"
            ],
            "text/plain": [
              "     name  age\n",
              "0  Dinesh   10\n",
              "1  Nithya   12\n",
              "2    Raji   13"
            ]
          },
          "metadata": {
            "tags": []
          },
          "execution_count": 14
        }
      ]
    },
    {
      "cell_type": "code",
      "metadata": {
        "colab": {
          "base_uri": "https://localhost:8080/",
          "height": 175
        },
        "id": "AHr6w4nt5ztY",
        "outputId": "d131994f-3ab8-4afe-ff79-fa746f1c1a8f"
      },
      "source": [
        "data = {'Name':['Kavitha', 'Sudha', 'Raju','Vignesh'],'Age':[28,34,29,42]}\n",
        "df = pd.DataFrame(data, index=['rank1','rank2','rank3','rank4'])\n",
        "df"
      ],
      "execution_count": null,
      "outputs": [
        {
          "output_type": "execute_result",
          "data": {
            "text/html": [
              "<div>\n",
              "<style scoped>\n",
              "    .dataframe tbody tr th:only-of-type {\n",
              "        vertical-align: middle;\n",
              "    }\n",
              "\n",
              "    .dataframe tbody tr th {\n",
              "        vertical-align: top;\n",
              "    }\n",
              "\n",
              "    .dataframe thead th {\n",
              "        text-align: right;\n",
              "    }\n",
              "</style>\n",
              "<table border=\"1\" class=\"dataframe\">\n",
              "  <thead>\n",
              "    <tr style=\"text-align: right;\">\n",
              "      <th></th>\n",
              "      <th>Name</th>\n",
              "      <th>Age</th>\n",
              "    </tr>\n",
              "  </thead>\n",
              "  <tbody>\n",
              "    <tr>\n",
              "      <th>rank1</th>\n",
              "      <td>Kavitha</td>\n",
              "      <td>28</td>\n",
              "    </tr>\n",
              "    <tr>\n",
              "      <th>rank2</th>\n",
              "      <td>Sudha</td>\n",
              "      <td>34</td>\n",
              "    </tr>\n",
              "    <tr>\n",
              "      <th>rank3</th>\n",
              "      <td>Raju</td>\n",
              "      <td>29</td>\n",
              "    </tr>\n",
              "    <tr>\n",
              "      <th>rank4</th>\n",
              "      <td>Vignesh</td>\n",
              "      <td>42</td>\n",
              "    </tr>\n",
              "  </tbody>\n",
              "</table>\n",
              "</div>"
            ],
            "text/plain": [
              "          Name  Age\n",
              "rank1  Kavitha   28\n",
              "rank2    Sudha   34\n",
              "rank3     Raju   29\n",
              "rank4  Vignesh   42"
            ]
          },
          "metadata": {
            "tags": []
          },
          "execution_count": 17
        }
      ]
    },
    {
      "cell_type": "code",
      "metadata": {
        "colab": {
          "base_uri": "https://localhost:8080/",
          "height": 175
        },
        "id": "UM2o81gz6ym7",
        "outputId": "ce725bf7-c033-41a1-fb53-ee160c52c296"
      },
      "source": [
        "df1=pd.DataFrame({'A':pd.Timestamp('20130102'),'B':np.array([3]*4,dtype='int32'),'C':pd.Categorical(['Male','Female','Male','Female'])})\n",
        "df1"
      ],
      "execution_count": null,
      "outputs": [
        {
          "output_type": "execute_result",
          "data": {
            "text/html": [
              "<div>\n",
              "<style scoped>\n",
              "    .dataframe tbody tr th:only-of-type {\n",
              "        vertical-align: middle;\n",
              "    }\n",
              "\n",
              "    .dataframe tbody tr th {\n",
              "        vertical-align: top;\n",
              "    }\n",
              "\n",
              "    .dataframe thead th {\n",
              "        text-align: right;\n",
              "    }\n",
              "</style>\n",
              "<table border=\"1\" class=\"dataframe\">\n",
              "  <thead>\n",
              "    <tr style=\"text-align: right;\">\n",
              "      <th></th>\n",
              "      <th>A</th>\n",
              "      <th>B</th>\n",
              "      <th>C</th>\n",
              "    </tr>\n",
              "  </thead>\n",
              "  <tbody>\n",
              "    <tr>\n",
              "      <th>0</th>\n",
              "      <td>2013-01-02</td>\n",
              "      <td>3</td>\n",
              "      <td>Male</td>\n",
              "    </tr>\n",
              "    <tr>\n",
              "      <th>1</th>\n",
              "      <td>2013-01-02</td>\n",
              "      <td>3</td>\n",
              "      <td>Female</td>\n",
              "    </tr>\n",
              "    <tr>\n",
              "      <th>2</th>\n",
              "      <td>2013-01-02</td>\n",
              "      <td>3</td>\n",
              "      <td>Male</td>\n",
              "    </tr>\n",
              "    <tr>\n",
              "      <th>3</th>\n",
              "      <td>2013-01-02</td>\n",
              "      <td>3</td>\n",
              "      <td>Female</td>\n",
              "    </tr>\n",
              "  </tbody>\n",
              "</table>\n",
              "</div>"
            ],
            "text/plain": [
              "           A  B       C\n",
              "0 2013-01-02  3    Male\n",
              "1 2013-01-02  3  Female\n",
              "2 2013-01-02  3    Male\n",
              "3 2013-01-02  3  Female"
            ]
          },
          "metadata": {
            "tags": []
          },
          "execution_count": 22
        }
      ]
    },
    {
      "cell_type": "code",
      "metadata": {
        "colab": {
          "base_uri": "https://localhost:8080/"
        },
        "id": "aTDl7LxN7RAa",
        "outputId": "04b3af90-21cc-4e24-9cc8-524327058153"
      },
      "source": [
        "df1.shape"
      ],
      "execution_count": null,
      "outputs": [
        {
          "output_type": "execute_result",
          "data": {
            "text/plain": [
              "(4, 3)"
            ]
          },
          "metadata": {
            "tags": []
          },
          "execution_count": 24
        }
      ]
    },
    {
      "cell_type": "code",
      "metadata": {
        "colab": {
          "base_uri": "https://localhost:8080/"
        },
        "id": "MCzvm6ga7jTr",
        "outputId": "a5d747df-91bf-4ec7-c4e6-ed0154e99834"
      },
      "source": [
        "df1.dtypes"
      ],
      "execution_count": null,
      "outputs": [
        {
          "output_type": "execute_result",
          "data": {
            "text/plain": [
              "A    datetime64[ns]\n",
              "B             int32\n",
              "C          category\n",
              "dtype: object"
            ]
          },
          "metadata": {
            "tags": []
          },
          "execution_count": 25
        }
      ]
    },
    {
      "cell_type": "code",
      "metadata": {
        "colab": {
          "base_uri": "https://localhost:8080/",
          "height": 175
        },
        "id": "4jWDUi2J7tha",
        "outputId": "f2d93877-869b-4356-e406-43f9f3737f5f"
      },
      "source": [
        "df1.head()"
      ],
      "execution_count": null,
      "outputs": [
        {
          "output_type": "execute_result",
          "data": {
            "text/html": [
              "<div>\n",
              "<style scoped>\n",
              "    .dataframe tbody tr th:only-of-type {\n",
              "        vertical-align: middle;\n",
              "    }\n",
              "\n",
              "    .dataframe tbody tr th {\n",
              "        vertical-align: top;\n",
              "    }\n",
              "\n",
              "    .dataframe thead th {\n",
              "        text-align: right;\n",
              "    }\n",
              "</style>\n",
              "<table border=\"1\" class=\"dataframe\">\n",
              "  <thead>\n",
              "    <tr style=\"text-align: right;\">\n",
              "      <th></th>\n",
              "      <th>A</th>\n",
              "      <th>B</th>\n",
              "      <th>C</th>\n",
              "    </tr>\n",
              "  </thead>\n",
              "  <tbody>\n",
              "    <tr>\n",
              "      <th>0</th>\n",
              "      <td>2013-01-02</td>\n",
              "      <td>3</td>\n",
              "      <td>Male</td>\n",
              "    </tr>\n",
              "    <tr>\n",
              "      <th>1</th>\n",
              "      <td>2013-01-02</td>\n",
              "      <td>3</td>\n",
              "      <td>Female</td>\n",
              "    </tr>\n",
              "    <tr>\n",
              "      <th>2</th>\n",
              "      <td>2013-01-02</td>\n",
              "      <td>3</td>\n",
              "      <td>Male</td>\n",
              "    </tr>\n",
              "    <tr>\n",
              "      <th>3</th>\n",
              "      <td>2013-01-02</td>\n",
              "      <td>3</td>\n",
              "      <td>Female</td>\n",
              "    </tr>\n",
              "  </tbody>\n",
              "</table>\n",
              "</div>"
            ],
            "text/plain": [
              "           A  B       C\n",
              "0 2013-01-02  3    Male\n",
              "1 2013-01-02  3  Female\n",
              "2 2013-01-02  3    Male\n",
              "3 2013-01-02  3  Female"
            ]
          },
          "metadata": {
            "tags": []
          },
          "execution_count": 26
        }
      ]
    },
    {
      "cell_type": "code",
      "metadata": {
        "colab": {
          "base_uri": "https://localhost:8080/",
          "height": 175
        },
        "id": "V4Lhj5np7xR7",
        "outputId": "0a7d52b5-ed69-4e7f-b1cc-be4792069d16"
      },
      "source": [
        "df1.tail()"
      ],
      "execution_count": null,
      "outputs": [
        {
          "output_type": "execute_result",
          "data": {
            "text/html": [
              "<div>\n",
              "<style scoped>\n",
              "    .dataframe tbody tr th:only-of-type {\n",
              "        vertical-align: middle;\n",
              "    }\n",
              "\n",
              "    .dataframe tbody tr th {\n",
              "        vertical-align: top;\n",
              "    }\n",
              "\n",
              "    .dataframe thead th {\n",
              "        text-align: right;\n",
              "    }\n",
              "</style>\n",
              "<table border=\"1\" class=\"dataframe\">\n",
              "  <thead>\n",
              "    <tr style=\"text-align: right;\">\n",
              "      <th></th>\n",
              "      <th>A</th>\n",
              "      <th>B</th>\n",
              "      <th>C</th>\n",
              "    </tr>\n",
              "  </thead>\n",
              "  <tbody>\n",
              "    <tr>\n",
              "      <th>0</th>\n",
              "      <td>2013-01-02</td>\n",
              "      <td>3</td>\n",
              "      <td>Male</td>\n",
              "    </tr>\n",
              "    <tr>\n",
              "      <th>1</th>\n",
              "      <td>2013-01-02</td>\n",
              "      <td>3</td>\n",
              "      <td>Female</td>\n",
              "    </tr>\n",
              "    <tr>\n",
              "      <th>2</th>\n",
              "      <td>2013-01-02</td>\n",
              "      <td>3</td>\n",
              "      <td>Male</td>\n",
              "    </tr>\n",
              "    <tr>\n",
              "      <th>3</th>\n",
              "      <td>2013-01-02</td>\n",
              "      <td>3</td>\n",
              "      <td>Female</td>\n",
              "    </tr>\n",
              "  </tbody>\n",
              "</table>\n",
              "</div>"
            ],
            "text/plain": [
              "           A  B       C\n",
              "0 2013-01-02  3    Male\n",
              "1 2013-01-02  3  Female\n",
              "2 2013-01-02  3    Male\n",
              "3 2013-01-02  3  Female"
            ]
          },
          "metadata": {
            "tags": []
          },
          "execution_count": 27
        }
      ]
    },
    {
      "cell_type": "code",
      "metadata": {
        "colab": {
          "base_uri": "https://localhost:8080/"
        },
        "id": "vq6A3nZf7z9K",
        "outputId": "b0949dc0-1d38-40cc-932a-945549b12d27"
      },
      "source": [
        "type(df1)"
      ],
      "execution_count": null,
      "outputs": [
        {
          "output_type": "execute_result",
          "data": {
            "text/plain": [
              "pandas.core.frame.DataFrame"
            ]
          },
          "metadata": {
            "tags": []
          },
          "execution_count": 31
        }
      ]
    },
    {
      "cell_type": "code",
      "metadata": {
        "id": "N0xRl99Z715y"
      },
      "source": [
        "# df1.summary()"
      ],
      "execution_count": null,
      "outputs": []
    },
    {
      "cell_type": "code",
      "metadata": {
        "colab": {
          "base_uri": "https://localhost:8080/",
          "height": 143
        },
        "id": "p_DCmLfc8TV6",
        "outputId": "d14bcdd2-ea96-4e09-a5b6-165ff474e53c"
      },
      "source": [
        "df1.T"
      ],
      "execution_count": null,
      "outputs": [
        {
          "output_type": "execute_result",
          "data": {
            "text/html": [
              "<div>\n",
              "<style scoped>\n",
              "    .dataframe tbody tr th:only-of-type {\n",
              "        vertical-align: middle;\n",
              "    }\n",
              "\n",
              "    .dataframe tbody tr th {\n",
              "        vertical-align: top;\n",
              "    }\n",
              "\n",
              "    .dataframe thead th {\n",
              "        text-align: right;\n",
              "    }\n",
              "</style>\n",
              "<table border=\"1\" class=\"dataframe\">\n",
              "  <thead>\n",
              "    <tr style=\"text-align: right;\">\n",
              "      <th></th>\n",
              "      <th>0</th>\n",
              "      <th>1</th>\n",
              "      <th>2</th>\n",
              "      <th>3</th>\n",
              "    </tr>\n",
              "  </thead>\n",
              "  <tbody>\n",
              "    <tr>\n",
              "      <th>A</th>\n",
              "      <td>2013-01-02 00:00:00</td>\n",
              "      <td>2013-01-02 00:00:00</td>\n",
              "      <td>2013-01-02 00:00:00</td>\n",
              "      <td>2013-01-02 00:00:00</td>\n",
              "    </tr>\n",
              "    <tr>\n",
              "      <th>B</th>\n",
              "      <td>3</td>\n",
              "      <td>3</td>\n",
              "      <td>3</td>\n",
              "      <td>3</td>\n",
              "    </tr>\n",
              "    <tr>\n",
              "      <th>C</th>\n",
              "      <td>Male</td>\n",
              "      <td>Female</td>\n",
              "      <td>Male</td>\n",
              "      <td>Female</td>\n",
              "    </tr>\n",
              "  </tbody>\n",
              "</table>\n",
              "</div>"
            ],
            "text/plain": [
              "                     0  ...                    3\n",
              "A  2013-01-02 00:00:00  ...  2013-01-02 00:00:00\n",
              "B                    3  ...                    3\n",
              "C                 Male  ...               Female\n",
              "\n",
              "[3 rows x 4 columns]"
            ]
          },
          "metadata": {
            "tags": []
          },
          "execution_count": 34
        }
      ]
    },
    {
      "cell_type": "code",
      "metadata": {
        "colab": {
          "base_uri": "https://localhost:8080/",
          "height": 175
        },
        "id": "KJMMRbGx8Vqz",
        "outputId": "9b097d26-6f59-464c-956d-a7ea3ee88596"
      },
      "source": [
        "df1"
      ],
      "execution_count": null,
      "outputs": [
        {
          "output_type": "execute_result",
          "data": {
            "text/html": [
              "<div>\n",
              "<style scoped>\n",
              "    .dataframe tbody tr th:only-of-type {\n",
              "        vertical-align: middle;\n",
              "    }\n",
              "\n",
              "    .dataframe tbody tr th {\n",
              "        vertical-align: top;\n",
              "    }\n",
              "\n",
              "    .dataframe thead th {\n",
              "        text-align: right;\n",
              "    }\n",
              "</style>\n",
              "<table border=\"1\" class=\"dataframe\">\n",
              "  <thead>\n",
              "    <tr style=\"text-align: right;\">\n",
              "      <th></th>\n",
              "      <th>A</th>\n",
              "      <th>B</th>\n",
              "      <th>C</th>\n",
              "    </tr>\n",
              "  </thead>\n",
              "  <tbody>\n",
              "    <tr>\n",
              "      <th>0</th>\n",
              "      <td>2013-01-02</td>\n",
              "      <td>3</td>\n",
              "      <td>Male</td>\n",
              "    </tr>\n",
              "    <tr>\n",
              "      <th>1</th>\n",
              "      <td>2013-01-02</td>\n",
              "      <td>3</td>\n",
              "      <td>Female</td>\n",
              "    </tr>\n",
              "    <tr>\n",
              "      <th>2</th>\n",
              "      <td>2013-01-02</td>\n",
              "      <td>3</td>\n",
              "      <td>Male</td>\n",
              "    </tr>\n",
              "    <tr>\n",
              "      <th>3</th>\n",
              "      <td>2013-01-02</td>\n",
              "      <td>3</td>\n",
              "      <td>Female</td>\n",
              "    </tr>\n",
              "  </tbody>\n",
              "</table>\n",
              "</div>"
            ],
            "text/plain": [
              "           A  B       C\n",
              "0 2013-01-02  3    Male\n",
              "1 2013-01-02  3  Female\n",
              "2 2013-01-02  3    Male\n",
              "3 2013-01-02  3  Female"
            ]
          },
          "metadata": {
            "tags": []
          },
          "execution_count": 51
        }
      ]
    },
    {
      "cell_type": "code",
      "metadata": {
        "colab": {
          "base_uri": "https://localhost:8080/",
          "height": 175
        },
        "id": "DFbGLTGb-GaK",
        "outputId": "98a1f678-f397-4ae0-c1e7-a700420638cf"
      },
      "source": [
        "df1.sort_index(axis=0,ascending=False)"
      ],
      "execution_count": null,
      "outputs": [
        {
          "output_type": "execute_result",
          "data": {
            "text/html": [
              "<div>\n",
              "<style scoped>\n",
              "    .dataframe tbody tr th:only-of-type {\n",
              "        vertical-align: middle;\n",
              "    }\n",
              "\n",
              "    .dataframe tbody tr th {\n",
              "        vertical-align: top;\n",
              "    }\n",
              "\n",
              "    .dataframe thead th {\n",
              "        text-align: right;\n",
              "    }\n",
              "</style>\n",
              "<table border=\"1\" class=\"dataframe\">\n",
              "  <thead>\n",
              "    <tr style=\"text-align: right;\">\n",
              "      <th></th>\n",
              "      <th>A</th>\n",
              "      <th>B</th>\n",
              "      <th>C</th>\n",
              "    </tr>\n",
              "  </thead>\n",
              "  <tbody>\n",
              "    <tr>\n",
              "      <th>3</th>\n",
              "      <td>2013-01-02</td>\n",
              "      <td>3</td>\n",
              "      <td>Female</td>\n",
              "    </tr>\n",
              "    <tr>\n",
              "      <th>2</th>\n",
              "      <td>2013-01-02</td>\n",
              "      <td>3</td>\n",
              "      <td>Male</td>\n",
              "    </tr>\n",
              "    <tr>\n",
              "      <th>1</th>\n",
              "      <td>2013-01-02</td>\n",
              "      <td>3</td>\n",
              "      <td>Female</td>\n",
              "    </tr>\n",
              "    <tr>\n",
              "      <th>0</th>\n",
              "      <td>2013-01-02</td>\n",
              "      <td>3</td>\n",
              "      <td>Male</td>\n",
              "    </tr>\n",
              "  </tbody>\n",
              "</table>\n",
              "</div>"
            ],
            "text/plain": [
              "           A  B       C\n",
              "3 2013-01-02  3  Female\n",
              "2 2013-01-02  3    Male\n",
              "1 2013-01-02  3  Female\n",
              "0 2013-01-02  3    Male"
            ]
          },
          "metadata": {
            "tags": []
          },
          "execution_count": 58
        }
      ]
    },
    {
      "cell_type": "code",
      "metadata": {
        "colab": {
          "base_uri": "https://localhost:8080/",
          "height": 175
        },
        "id": "i5_QRMfa-l4h",
        "outputId": "642118cc-2e33-4277-8c93-bfd0e642e8df"
      },
      "source": [
        "df1.sort_index(axis=0,ascending=True)"
      ],
      "execution_count": null,
      "outputs": [
        {
          "output_type": "execute_result",
          "data": {
            "text/html": [
              "<div>\n",
              "<style scoped>\n",
              "    .dataframe tbody tr th:only-of-type {\n",
              "        vertical-align: middle;\n",
              "    }\n",
              "\n",
              "    .dataframe tbody tr th {\n",
              "        vertical-align: top;\n",
              "    }\n",
              "\n",
              "    .dataframe thead th {\n",
              "        text-align: right;\n",
              "    }\n",
              "</style>\n",
              "<table border=\"1\" class=\"dataframe\">\n",
              "  <thead>\n",
              "    <tr style=\"text-align: right;\">\n",
              "      <th></th>\n",
              "      <th>A</th>\n",
              "      <th>B</th>\n",
              "      <th>C</th>\n",
              "    </tr>\n",
              "  </thead>\n",
              "  <tbody>\n",
              "    <tr>\n",
              "      <th>0</th>\n",
              "      <td>2013-01-02</td>\n",
              "      <td>3</td>\n",
              "      <td>Male</td>\n",
              "    </tr>\n",
              "    <tr>\n",
              "      <th>1</th>\n",
              "      <td>2013-01-02</td>\n",
              "      <td>3</td>\n",
              "      <td>Female</td>\n",
              "    </tr>\n",
              "    <tr>\n",
              "      <th>2</th>\n",
              "      <td>2013-01-02</td>\n",
              "      <td>3</td>\n",
              "      <td>Male</td>\n",
              "    </tr>\n",
              "    <tr>\n",
              "      <th>3</th>\n",
              "      <td>2013-01-02</td>\n",
              "      <td>3</td>\n",
              "      <td>Female</td>\n",
              "    </tr>\n",
              "  </tbody>\n",
              "</table>\n",
              "</div>"
            ],
            "text/plain": [
              "           A  B       C\n",
              "0 2013-01-02  3    Male\n",
              "1 2013-01-02  3  Female\n",
              "2 2013-01-02  3    Male\n",
              "3 2013-01-02  3  Female"
            ]
          },
          "metadata": {
            "tags": []
          },
          "execution_count": 59
        }
      ]
    },
    {
      "cell_type": "markdown",
      "metadata": {
        "id": "iDyiSKul_C3M"
      },
      "source": [
        ""
      ]
    },
    {
      "cell_type": "code",
      "metadata": {
        "colab": {
          "base_uri": "https://localhost:8080/",
          "height": 175
        },
        "id": "l_bi9MfY_DRN",
        "outputId": "4818ed0e-958e-4b41-b740-f585c96498fc"
      },
      "source": [
        "df1.sort_index(axis=1,ascending=False)"
      ],
      "execution_count": null,
      "outputs": [
        {
          "output_type": "execute_result",
          "data": {
            "text/html": [
              "<div>\n",
              "<style scoped>\n",
              "    .dataframe tbody tr th:only-of-type {\n",
              "        vertical-align: middle;\n",
              "    }\n",
              "\n",
              "    .dataframe tbody tr th {\n",
              "        vertical-align: top;\n",
              "    }\n",
              "\n",
              "    .dataframe thead th {\n",
              "        text-align: right;\n",
              "    }\n",
              "</style>\n",
              "<table border=\"1\" class=\"dataframe\">\n",
              "  <thead>\n",
              "    <tr style=\"text-align: right;\">\n",
              "      <th></th>\n",
              "      <th>C</th>\n",
              "      <th>B</th>\n",
              "      <th>A</th>\n",
              "    </tr>\n",
              "  </thead>\n",
              "  <tbody>\n",
              "    <tr>\n",
              "      <th>0</th>\n",
              "      <td>Male</td>\n",
              "      <td>3</td>\n",
              "      <td>2013-01-02</td>\n",
              "    </tr>\n",
              "    <tr>\n",
              "      <th>1</th>\n",
              "      <td>Female</td>\n",
              "      <td>3</td>\n",
              "      <td>2013-01-02</td>\n",
              "    </tr>\n",
              "    <tr>\n",
              "      <th>2</th>\n",
              "      <td>Male</td>\n",
              "      <td>3</td>\n",
              "      <td>2013-01-02</td>\n",
              "    </tr>\n",
              "    <tr>\n",
              "      <th>3</th>\n",
              "      <td>Female</td>\n",
              "      <td>3</td>\n",
              "      <td>2013-01-02</td>\n",
              "    </tr>\n",
              "  </tbody>\n",
              "</table>\n",
              "</div>"
            ],
            "text/plain": [
              "        C  B          A\n",
              "0    Male  3 2013-01-02\n",
              "1  Female  3 2013-01-02\n",
              "2    Male  3 2013-01-02\n",
              "3  Female  3 2013-01-02"
            ]
          },
          "metadata": {
            "tags": []
          },
          "execution_count": 61
        }
      ]
    },
    {
      "cell_type": "code",
      "metadata": {
        "colab": {
          "base_uri": "https://localhost:8080/"
        },
        "id": "9C33ZXhl8Xzc",
        "outputId": "34095fdf-e74b-4e1a-f9c1-5516fd5bbb98"
      },
      "source": [
        "dates=pd.date_range('20200301',periods=100)\n",
        "dates"
      ],
      "execution_count": null,
      "outputs": [
        {
          "output_type": "execute_result",
          "data": {
            "text/plain": [
              "DatetimeIndex(['2020-03-01', '2020-03-02', '2020-03-03', '2020-03-04',\n",
              "               '2020-03-05', '2020-03-06', '2020-03-07', '2020-03-08',\n",
              "               '2020-03-09', '2020-03-10', '2020-03-11', '2020-03-12',\n",
              "               '2020-03-13', '2020-03-14', '2020-03-15', '2020-03-16',\n",
              "               '2020-03-17', '2020-03-18', '2020-03-19', '2020-03-20',\n",
              "               '2020-03-21', '2020-03-22', '2020-03-23', '2020-03-24',\n",
              "               '2020-03-25', '2020-03-26', '2020-03-27', '2020-03-28',\n",
              "               '2020-03-29', '2020-03-30', '2020-03-31', '2020-04-01',\n",
              "               '2020-04-02', '2020-04-03', '2020-04-04', '2020-04-05',\n",
              "               '2020-04-06', '2020-04-07', '2020-04-08', '2020-04-09',\n",
              "               '2020-04-10', '2020-04-11', '2020-04-12', '2020-04-13',\n",
              "               '2020-04-14', '2020-04-15', '2020-04-16', '2020-04-17',\n",
              "               '2020-04-18', '2020-04-19', '2020-04-20', '2020-04-21',\n",
              "               '2020-04-22', '2020-04-23', '2020-04-24', '2020-04-25',\n",
              "               '2020-04-26', '2020-04-27', '2020-04-28', '2020-04-29',\n",
              "               '2020-04-30', '2020-05-01', '2020-05-02', '2020-05-03',\n",
              "               '2020-05-04', '2020-05-05', '2020-05-06', '2020-05-07',\n",
              "               '2020-05-08', '2020-05-09', '2020-05-10', '2020-05-11',\n",
              "               '2020-05-12', '2020-05-13', '2020-05-14', '2020-05-15',\n",
              "               '2020-05-16', '2020-05-17', '2020-05-18', '2020-05-19',\n",
              "               '2020-05-20', '2020-05-21', '2020-05-22', '2020-05-23',\n",
              "               '2020-05-24', '2020-05-25', '2020-05-26', '2020-05-27',\n",
              "               '2020-05-28', '2020-05-29', '2020-05-30', '2020-05-31',\n",
              "               '2020-06-01', '2020-06-02', '2020-06-03', '2020-06-04',\n",
              "               '2020-06-05', '2020-06-06', '2020-06-07', '2020-06-08'],\n",
              "              dtype='datetime64[ns]', freq='D')"
            ]
          },
          "metadata": {
            "tags": []
          },
          "execution_count": 42
        }
      ]
    },
    {
      "cell_type": "code",
      "metadata": {
        "colab": {
          "base_uri": "https://localhost:8080/",
          "height": 424
        },
        "id": "DZJXzk3E8hly",
        "outputId": "207dedc3-5662-4dd2-b80d-de0e8fdcdf00"
      },
      "source": [
        "df=pd.DataFrame(np.random.randn(100,5),index=dates,columns=list('ABCDE'))\n",
        "df"
      ],
      "execution_count": null,
      "outputs": [
        {
          "output_type": "execute_result",
          "data": {
            "text/html": [
              "<div>\n",
              "<style scoped>\n",
              "    .dataframe tbody tr th:only-of-type {\n",
              "        vertical-align: middle;\n",
              "    }\n",
              "\n",
              "    .dataframe tbody tr th {\n",
              "        vertical-align: top;\n",
              "    }\n",
              "\n",
              "    .dataframe thead th {\n",
              "        text-align: right;\n",
              "    }\n",
              "</style>\n",
              "<table border=\"1\" class=\"dataframe\">\n",
              "  <thead>\n",
              "    <tr style=\"text-align: right;\">\n",
              "      <th></th>\n",
              "      <th>A</th>\n",
              "      <th>B</th>\n",
              "      <th>C</th>\n",
              "      <th>D</th>\n",
              "      <th>E</th>\n",
              "    </tr>\n",
              "  </thead>\n",
              "  <tbody>\n",
              "    <tr>\n",
              "      <th>2020-03-01</th>\n",
              "      <td>-0.135540</td>\n",
              "      <td>-0.856945</td>\n",
              "      <td>1.693464</td>\n",
              "      <td>-0.035213</td>\n",
              "      <td>-0.918129</td>\n",
              "    </tr>\n",
              "    <tr>\n",
              "      <th>2020-03-02</th>\n",
              "      <td>0.525037</td>\n",
              "      <td>0.589724</td>\n",
              "      <td>-1.103871</td>\n",
              "      <td>0.588731</td>\n",
              "      <td>-1.214577</td>\n",
              "    </tr>\n",
              "    <tr>\n",
              "      <th>2020-03-03</th>\n",
              "      <td>-0.381519</td>\n",
              "      <td>2.530363</td>\n",
              "      <td>-0.431943</td>\n",
              "      <td>1.391267</td>\n",
              "      <td>-0.506570</td>\n",
              "    </tr>\n",
              "    <tr>\n",
              "      <th>2020-03-04</th>\n",
              "      <td>-0.114909</td>\n",
              "      <td>-0.971451</td>\n",
              "      <td>2.042069</td>\n",
              "      <td>-2.583280</td>\n",
              "      <td>-2.385616</td>\n",
              "    </tr>\n",
              "    <tr>\n",
              "      <th>2020-03-05</th>\n",
              "      <td>0.528383</td>\n",
              "      <td>0.583538</td>\n",
              "      <td>-1.484305</td>\n",
              "      <td>-0.639642</td>\n",
              "      <td>-0.829156</td>\n",
              "    </tr>\n",
              "    <tr>\n",
              "      <th>...</th>\n",
              "      <td>...</td>\n",
              "      <td>...</td>\n",
              "      <td>...</td>\n",
              "      <td>...</td>\n",
              "      <td>...</td>\n",
              "    </tr>\n",
              "    <tr>\n",
              "      <th>2020-06-04</th>\n",
              "      <td>-0.528134</td>\n",
              "      <td>-2.097465</td>\n",
              "      <td>-1.789905</td>\n",
              "      <td>-0.765978</td>\n",
              "      <td>-2.658492</td>\n",
              "    </tr>\n",
              "    <tr>\n",
              "      <th>2020-06-05</th>\n",
              "      <td>-0.669089</td>\n",
              "      <td>-1.579957</td>\n",
              "      <td>-0.771902</td>\n",
              "      <td>0.923702</td>\n",
              "      <td>-1.701865</td>\n",
              "    </tr>\n",
              "    <tr>\n",
              "      <th>2020-06-06</th>\n",
              "      <td>-0.435860</td>\n",
              "      <td>-0.409949</td>\n",
              "      <td>0.225786</td>\n",
              "      <td>-0.313428</td>\n",
              "      <td>2.124608</td>\n",
              "    </tr>\n",
              "    <tr>\n",
              "      <th>2020-06-07</th>\n",
              "      <td>-1.308892</td>\n",
              "      <td>0.413231</td>\n",
              "      <td>0.432763</td>\n",
              "      <td>-2.534826</td>\n",
              "      <td>1.229016</td>\n",
              "    </tr>\n",
              "    <tr>\n",
              "      <th>2020-06-08</th>\n",
              "      <td>-1.099797</td>\n",
              "      <td>0.671590</td>\n",
              "      <td>-0.107543</td>\n",
              "      <td>-0.650736</td>\n",
              "      <td>-2.256376</td>\n",
              "    </tr>\n",
              "  </tbody>\n",
              "</table>\n",
              "<p>100 rows × 5 columns</p>\n",
              "</div>"
            ],
            "text/plain": [
              "                   A         B         C         D         E\n",
              "2020-03-01 -0.135540 -0.856945  1.693464 -0.035213 -0.918129\n",
              "2020-03-02  0.525037  0.589724 -1.103871  0.588731 -1.214577\n",
              "2020-03-03 -0.381519  2.530363 -0.431943  1.391267 -0.506570\n",
              "2020-03-04 -0.114909 -0.971451  2.042069 -2.583280 -2.385616\n",
              "2020-03-05  0.528383  0.583538 -1.484305 -0.639642 -0.829156\n",
              "...              ...       ...       ...       ...       ...\n",
              "2020-06-04 -0.528134 -2.097465 -1.789905 -0.765978 -2.658492\n",
              "2020-06-05 -0.669089 -1.579957 -0.771902  0.923702 -1.701865\n",
              "2020-06-06 -0.435860 -0.409949  0.225786 -0.313428  2.124608\n",
              "2020-06-07 -1.308892  0.413231  0.432763 -2.534826  1.229016\n",
              "2020-06-08 -1.099797  0.671590 -0.107543 -0.650736 -2.256376\n",
              "\n",
              "[100 rows x 5 columns]"
            ]
          },
          "metadata": {
            "tags": []
          },
          "execution_count": 45
        }
      ]
    },
    {
      "cell_type": "code",
      "metadata": {
        "colab": {
          "base_uri": "https://localhost:8080/"
        },
        "id": "x_X6X8rF9BPJ",
        "outputId": "686ada6b-7468-46b8-e147-2ac5be214b20"
      },
      "source": [
        "df.index"
      ],
      "execution_count": null,
      "outputs": [
        {
          "output_type": "execute_result",
          "data": {
            "text/plain": [
              "DatetimeIndex(['2020-03-01', '2020-03-02', '2020-03-03', '2020-03-04',\n",
              "               '2020-03-05', '2020-03-06', '2020-03-07', '2020-03-08',\n",
              "               '2020-03-09', '2020-03-10', '2020-03-11', '2020-03-12',\n",
              "               '2020-03-13', '2020-03-14', '2020-03-15', '2020-03-16',\n",
              "               '2020-03-17', '2020-03-18', '2020-03-19', '2020-03-20',\n",
              "               '2020-03-21', '2020-03-22', '2020-03-23', '2020-03-24',\n",
              "               '2020-03-25', '2020-03-26', '2020-03-27', '2020-03-28',\n",
              "               '2020-03-29', '2020-03-30', '2020-03-31', '2020-04-01',\n",
              "               '2020-04-02', '2020-04-03', '2020-04-04', '2020-04-05',\n",
              "               '2020-04-06', '2020-04-07', '2020-04-08', '2020-04-09',\n",
              "               '2020-04-10', '2020-04-11', '2020-04-12', '2020-04-13',\n",
              "               '2020-04-14', '2020-04-15', '2020-04-16', '2020-04-17',\n",
              "               '2020-04-18', '2020-04-19', '2020-04-20', '2020-04-21',\n",
              "               '2020-04-22', '2020-04-23', '2020-04-24', '2020-04-25',\n",
              "               '2020-04-26', '2020-04-27', '2020-04-28', '2020-04-29',\n",
              "               '2020-04-30', '2020-05-01', '2020-05-02', '2020-05-03',\n",
              "               '2020-05-04', '2020-05-05', '2020-05-06', '2020-05-07',\n",
              "               '2020-05-08', '2020-05-09', '2020-05-10', '2020-05-11',\n",
              "               '2020-05-12', '2020-05-13', '2020-05-14', '2020-05-15',\n",
              "               '2020-05-16', '2020-05-17', '2020-05-18', '2020-05-19',\n",
              "               '2020-05-20', '2020-05-21', '2020-05-22', '2020-05-23',\n",
              "               '2020-05-24', '2020-05-25', '2020-05-26', '2020-05-27',\n",
              "               '2020-05-28', '2020-05-29', '2020-05-30', '2020-05-31',\n",
              "               '2020-06-01', '2020-06-02', '2020-06-03', '2020-06-04',\n",
              "               '2020-06-05', '2020-06-06', '2020-06-07', '2020-06-08'],\n",
              "              dtype='datetime64[ns]', freq='D')"
            ]
          },
          "metadata": {
            "tags": []
          },
          "execution_count": 46
        }
      ]
    },
    {
      "cell_type": "code",
      "metadata": {
        "colab": {
          "base_uri": "https://localhost:8080/"
        },
        "id": "tIZgSwDO9sYq",
        "outputId": "bbb1a57a-bf67-46ea-960c-e30d4494b1c6"
      },
      "source": [
        "df.columns"
      ],
      "execution_count": null,
      "outputs": [
        {
          "output_type": "execute_result",
          "data": {
            "text/plain": [
              "Index(['A', 'B', 'C', 'D', 'E'], dtype='object')"
            ]
          },
          "metadata": {
            "tags": []
          },
          "execution_count": 47
        }
      ]
    },
    {
      "cell_type": "code",
      "metadata": {
        "colab": {
          "base_uri": "https://localhost:8080/",
          "height": 424
        },
        "id": "KcGDYcR09vLj",
        "outputId": "4b9d98f0-9eaa-44a6-bb36-addc4cf4f5ba"
      },
      "source": [
        "df.sort_index(axis=0,ascending=True)"
      ],
      "execution_count": null,
      "outputs": [
        {
          "output_type": "execute_result",
          "data": {
            "text/html": [
              "<div>\n",
              "<style scoped>\n",
              "    .dataframe tbody tr th:only-of-type {\n",
              "        vertical-align: middle;\n",
              "    }\n",
              "\n",
              "    .dataframe tbody tr th {\n",
              "        vertical-align: top;\n",
              "    }\n",
              "\n",
              "    .dataframe thead th {\n",
              "        text-align: right;\n",
              "    }\n",
              "</style>\n",
              "<table border=\"1\" class=\"dataframe\">\n",
              "  <thead>\n",
              "    <tr style=\"text-align: right;\">\n",
              "      <th></th>\n",
              "      <th>A</th>\n",
              "      <th>B</th>\n",
              "      <th>C</th>\n",
              "      <th>D</th>\n",
              "      <th>E</th>\n",
              "    </tr>\n",
              "  </thead>\n",
              "  <tbody>\n",
              "    <tr>\n",
              "      <th>2020-03-01</th>\n",
              "      <td>-0.135540</td>\n",
              "      <td>-0.856945</td>\n",
              "      <td>1.693464</td>\n",
              "      <td>-0.035213</td>\n",
              "      <td>-0.918129</td>\n",
              "    </tr>\n",
              "    <tr>\n",
              "      <th>2020-03-02</th>\n",
              "      <td>0.525037</td>\n",
              "      <td>0.589724</td>\n",
              "      <td>-1.103871</td>\n",
              "      <td>0.588731</td>\n",
              "      <td>-1.214577</td>\n",
              "    </tr>\n",
              "    <tr>\n",
              "      <th>2020-03-03</th>\n",
              "      <td>-0.381519</td>\n",
              "      <td>2.530363</td>\n",
              "      <td>-0.431943</td>\n",
              "      <td>1.391267</td>\n",
              "      <td>-0.506570</td>\n",
              "    </tr>\n",
              "    <tr>\n",
              "      <th>2020-03-04</th>\n",
              "      <td>-0.114909</td>\n",
              "      <td>-0.971451</td>\n",
              "      <td>2.042069</td>\n",
              "      <td>-2.583280</td>\n",
              "      <td>-2.385616</td>\n",
              "    </tr>\n",
              "    <tr>\n",
              "      <th>2020-03-05</th>\n",
              "      <td>0.528383</td>\n",
              "      <td>0.583538</td>\n",
              "      <td>-1.484305</td>\n",
              "      <td>-0.639642</td>\n",
              "      <td>-0.829156</td>\n",
              "    </tr>\n",
              "    <tr>\n",
              "      <th>...</th>\n",
              "      <td>...</td>\n",
              "      <td>...</td>\n",
              "      <td>...</td>\n",
              "      <td>...</td>\n",
              "      <td>...</td>\n",
              "    </tr>\n",
              "    <tr>\n",
              "      <th>2020-06-04</th>\n",
              "      <td>-0.528134</td>\n",
              "      <td>-2.097465</td>\n",
              "      <td>-1.789905</td>\n",
              "      <td>-0.765978</td>\n",
              "      <td>-2.658492</td>\n",
              "    </tr>\n",
              "    <tr>\n",
              "      <th>2020-06-05</th>\n",
              "      <td>-0.669089</td>\n",
              "      <td>-1.579957</td>\n",
              "      <td>-0.771902</td>\n",
              "      <td>0.923702</td>\n",
              "      <td>-1.701865</td>\n",
              "    </tr>\n",
              "    <tr>\n",
              "      <th>2020-06-06</th>\n",
              "      <td>-0.435860</td>\n",
              "      <td>-0.409949</td>\n",
              "      <td>0.225786</td>\n",
              "      <td>-0.313428</td>\n",
              "      <td>2.124608</td>\n",
              "    </tr>\n",
              "    <tr>\n",
              "      <th>2020-06-07</th>\n",
              "      <td>-1.308892</td>\n",
              "      <td>0.413231</td>\n",
              "      <td>0.432763</td>\n",
              "      <td>-2.534826</td>\n",
              "      <td>1.229016</td>\n",
              "    </tr>\n",
              "    <tr>\n",
              "      <th>2020-06-08</th>\n",
              "      <td>-1.099797</td>\n",
              "      <td>0.671590</td>\n",
              "      <td>-0.107543</td>\n",
              "      <td>-0.650736</td>\n",
              "      <td>-2.256376</td>\n",
              "    </tr>\n",
              "  </tbody>\n",
              "</table>\n",
              "<p>100 rows × 5 columns</p>\n",
              "</div>"
            ],
            "text/plain": [
              "                   A         B         C         D         E\n",
              "2020-03-01 -0.135540 -0.856945  1.693464 -0.035213 -0.918129\n",
              "2020-03-02  0.525037  0.589724 -1.103871  0.588731 -1.214577\n",
              "2020-03-03 -0.381519  2.530363 -0.431943  1.391267 -0.506570\n",
              "2020-03-04 -0.114909 -0.971451  2.042069 -2.583280 -2.385616\n",
              "2020-03-05  0.528383  0.583538 -1.484305 -0.639642 -0.829156\n",
              "...              ...       ...       ...       ...       ...\n",
              "2020-06-04 -0.528134 -2.097465 -1.789905 -0.765978 -2.658492\n",
              "2020-06-05 -0.669089 -1.579957 -0.771902  0.923702 -1.701865\n",
              "2020-06-06 -0.435860 -0.409949  0.225786 -0.313428  2.124608\n",
              "2020-06-07 -1.308892  0.413231  0.432763 -2.534826  1.229016\n",
              "2020-06-08 -1.099797  0.671590 -0.107543 -0.650736 -2.256376\n",
              "\n",
              "[100 rows x 5 columns]"
            ]
          },
          "metadata": {
            "tags": []
          },
          "execution_count": 50
        }
      ]
    },
    {
      "cell_type": "code",
      "metadata": {
        "colab": {
          "base_uri": "https://localhost:8080/",
          "height": 143
        },
        "id": "7MHTEI7293Ep",
        "outputId": "fda2689a-a1e0-400a-f7c0-f97400bb5b8f"
      },
      "source": [
        "df[0:3]"
      ],
      "execution_count": null,
      "outputs": [
        {
          "output_type": "execute_result",
          "data": {
            "text/html": [
              "<div>\n",
              "<style scoped>\n",
              "    .dataframe tbody tr th:only-of-type {\n",
              "        vertical-align: middle;\n",
              "    }\n",
              "\n",
              "    .dataframe tbody tr th {\n",
              "        vertical-align: top;\n",
              "    }\n",
              "\n",
              "    .dataframe thead th {\n",
              "        text-align: right;\n",
              "    }\n",
              "</style>\n",
              "<table border=\"1\" class=\"dataframe\">\n",
              "  <thead>\n",
              "    <tr style=\"text-align: right;\">\n",
              "      <th></th>\n",
              "      <th>A</th>\n",
              "      <th>B</th>\n",
              "      <th>C</th>\n",
              "      <th>D</th>\n",
              "      <th>E</th>\n",
              "    </tr>\n",
              "  </thead>\n",
              "  <tbody>\n",
              "    <tr>\n",
              "      <th>2020-03-01</th>\n",
              "      <td>-0.135540</td>\n",
              "      <td>-0.856945</td>\n",
              "      <td>1.693464</td>\n",
              "      <td>-0.035213</td>\n",
              "      <td>-0.918129</td>\n",
              "    </tr>\n",
              "    <tr>\n",
              "      <th>2020-03-02</th>\n",
              "      <td>0.525037</td>\n",
              "      <td>0.589724</td>\n",
              "      <td>-1.103871</td>\n",
              "      <td>0.588731</td>\n",
              "      <td>-1.214577</td>\n",
              "    </tr>\n",
              "    <tr>\n",
              "      <th>2020-03-03</th>\n",
              "      <td>-0.381519</td>\n",
              "      <td>2.530363</td>\n",
              "      <td>-0.431943</td>\n",
              "      <td>1.391267</td>\n",
              "      <td>-0.506570</td>\n",
              "    </tr>\n",
              "  </tbody>\n",
              "</table>\n",
              "</div>"
            ],
            "text/plain": [
              "                   A         B         C         D         E\n",
              "2020-03-01 -0.135540 -0.856945  1.693464 -0.035213 -0.918129\n",
              "2020-03-02  0.525037  0.589724 -1.103871  0.588731 -1.214577\n",
              "2020-03-03 -0.381519  2.530363 -0.431943  1.391267 -0.506570"
            ]
          },
          "metadata": {
            "tags": []
          },
          "execution_count": 64
        }
      ]
    },
    {
      "cell_type": "code",
      "metadata": {
        "colab": {
          "base_uri": "https://localhost:8080/"
        },
        "id": "PoHYe9ui_O2q",
        "outputId": "74038b99-c647-4423-b709-527f8fff9f89"
      },
      "source": [
        "df.iloc[0]"
      ],
      "execution_count": null,
      "outputs": [
        {
          "output_type": "execute_result",
          "data": {
            "text/plain": [
              "A   -0.135540\n",
              "B   -0.856945\n",
              "C    1.693464\n",
              "D   -0.035213\n",
              "E   -0.918129\n",
              "Name: 2020-03-01 00:00:00, dtype: float64"
            ]
          },
          "metadata": {
            "tags": []
          },
          "execution_count": 68
        }
      ]
    },
    {
      "cell_type": "code",
      "metadata": {
        "colab": {
          "base_uri": "https://localhost:8080/",
          "height": 143
        },
        "id": "Aaor6rRG_gCT",
        "outputId": "b0196e60-4eb7-4827-f732-c4f59a472b92"
      },
      "source": [
        "df.iloc[0:3]"
      ],
      "execution_count": null,
      "outputs": [
        {
          "output_type": "execute_result",
          "data": {
            "text/html": [
              "<div>\n",
              "<style scoped>\n",
              "    .dataframe tbody tr th:only-of-type {\n",
              "        vertical-align: middle;\n",
              "    }\n",
              "\n",
              "    .dataframe tbody tr th {\n",
              "        vertical-align: top;\n",
              "    }\n",
              "\n",
              "    .dataframe thead th {\n",
              "        text-align: right;\n",
              "    }\n",
              "</style>\n",
              "<table border=\"1\" class=\"dataframe\">\n",
              "  <thead>\n",
              "    <tr style=\"text-align: right;\">\n",
              "      <th></th>\n",
              "      <th>A</th>\n",
              "      <th>B</th>\n",
              "      <th>C</th>\n",
              "      <th>D</th>\n",
              "      <th>E</th>\n",
              "    </tr>\n",
              "  </thead>\n",
              "  <tbody>\n",
              "    <tr>\n",
              "      <th>2020-03-01</th>\n",
              "      <td>-0.135540</td>\n",
              "      <td>-0.856945</td>\n",
              "      <td>1.693464</td>\n",
              "      <td>-0.035213</td>\n",
              "      <td>-0.918129</td>\n",
              "    </tr>\n",
              "    <tr>\n",
              "      <th>2020-03-02</th>\n",
              "      <td>0.525037</td>\n",
              "      <td>0.589724</td>\n",
              "      <td>-1.103871</td>\n",
              "      <td>0.588731</td>\n",
              "      <td>-1.214577</td>\n",
              "    </tr>\n",
              "    <tr>\n",
              "      <th>2020-03-03</th>\n",
              "      <td>-0.381519</td>\n",
              "      <td>2.530363</td>\n",
              "      <td>-0.431943</td>\n",
              "      <td>1.391267</td>\n",
              "      <td>-0.506570</td>\n",
              "    </tr>\n",
              "  </tbody>\n",
              "</table>\n",
              "</div>"
            ],
            "text/plain": [
              "                   A         B         C         D         E\n",
              "2020-03-01 -0.135540 -0.856945  1.693464 -0.035213 -0.918129\n",
              "2020-03-02  0.525037  0.589724 -1.103871  0.588731 -1.214577\n",
              "2020-03-03 -0.381519  2.530363 -0.431943  1.391267 -0.506570"
            ]
          },
          "metadata": {
            "tags": []
          },
          "execution_count": 69
        }
      ]
    },
    {
      "cell_type": "code",
      "metadata": {
        "id": "tzQ-HzCo_p8J"
      },
      "source": [
        "# df[0,:2]"
      ],
      "execution_count": null,
      "outputs": []
    },
    {
      "cell_type": "code",
      "metadata": {
        "id": "QHa6QkVV_xo6",
        "colab": {
          "base_uri": "https://localhost:8080/",
          "height": 363
        },
        "outputId": "646e7a00-a44b-4720-dbaa-04d8b9c9eb23"
      },
      "source": [
        "df.iloc[0:10,:2]"
      ],
      "execution_count": 77,
      "outputs": [
        {
          "output_type": "execute_result",
          "data": {
            "text/html": [
              "<div>\n",
              "<style scoped>\n",
              "    .dataframe tbody tr th:only-of-type {\n",
              "        vertical-align: middle;\n",
              "    }\n",
              "\n",
              "    .dataframe tbody tr th {\n",
              "        vertical-align: top;\n",
              "    }\n",
              "\n",
              "    .dataframe thead th {\n",
              "        text-align: right;\n",
              "    }\n",
              "</style>\n",
              "<table border=\"1\" class=\"dataframe\">\n",
              "  <thead>\n",
              "    <tr style=\"text-align: right;\">\n",
              "      <th></th>\n",
              "      <th>A</th>\n",
              "      <th>B</th>\n",
              "    </tr>\n",
              "  </thead>\n",
              "  <tbody>\n",
              "    <tr>\n",
              "      <th>2020-03-01</th>\n",
              "      <td>-0.135540</td>\n",
              "      <td>-0.856945</td>\n",
              "    </tr>\n",
              "    <tr>\n",
              "      <th>2020-03-02</th>\n",
              "      <td>0.525037</td>\n",
              "      <td>0.589724</td>\n",
              "    </tr>\n",
              "    <tr>\n",
              "      <th>2020-03-03</th>\n",
              "      <td>-0.381519</td>\n",
              "      <td>2.530363</td>\n",
              "    </tr>\n",
              "    <tr>\n",
              "      <th>2020-03-04</th>\n",
              "      <td>-0.114909</td>\n",
              "      <td>-0.971451</td>\n",
              "    </tr>\n",
              "    <tr>\n",
              "      <th>2020-03-05</th>\n",
              "      <td>0.528383</td>\n",
              "      <td>0.583538</td>\n",
              "    </tr>\n",
              "    <tr>\n",
              "      <th>2020-03-06</th>\n",
              "      <td>-0.839623</td>\n",
              "      <td>0.650944</td>\n",
              "    </tr>\n",
              "    <tr>\n",
              "      <th>2020-03-07</th>\n",
              "      <td>0.337035</td>\n",
              "      <td>0.288683</td>\n",
              "    </tr>\n",
              "    <tr>\n",
              "      <th>2020-03-08</th>\n",
              "      <td>0.422639</td>\n",
              "      <td>-1.048588</td>\n",
              "    </tr>\n",
              "    <tr>\n",
              "      <th>2020-03-09</th>\n",
              "      <td>0.273666</td>\n",
              "      <td>-0.123409</td>\n",
              "    </tr>\n",
              "    <tr>\n",
              "      <th>2020-03-10</th>\n",
              "      <td>1.860097</td>\n",
              "      <td>-0.063118</td>\n",
              "    </tr>\n",
              "  </tbody>\n",
              "</table>\n",
              "</div>"
            ],
            "text/plain": [
              "                   A         B\n",
              "2020-03-01 -0.135540 -0.856945\n",
              "2020-03-02  0.525037  0.589724\n",
              "2020-03-03 -0.381519  2.530363\n",
              "2020-03-04 -0.114909 -0.971451\n",
              "2020-03-05  0.528383  0.583538\n",
              "2020-03-06 -0.839623  0.650944\n",
              "2020-03-07  0.337035  0.288683\n",
              "2020-03-08  0.422639 -1.048588\n",
              "2020-03-09  0.273666 -0.123409\n",
              "2020-03-10  1.860097 -0.063118"
            ]
          },
          "metadata": {
            "tags": []
          },
          "execution_count": 77
        }
      ]
    },
    {
      "cell_type": "code",
      "metadata": {
        "colab": {
          "base_uri": "https://localhost:8080/"
        },
        "id": "qTaot2zDCcKd",
        "outputId": "4b2a97d1-c827-42a2-b164-e9ee2dc1ab65"
      },
      "source": [
        "df['A']"
      ],
      "execution_count": 85,
      "outputs": [
        {
          "output_type": "execute_result",
          "data": {
            "text/plain": [
              "2020-03-01   -0.135540\n",
              "2020-03-02    0.525037\n",
              "2020-03-03   -0.381519\n",
              "2020-03-04   -0.114909\n",
              "2020-03-05    0.528383\n",
              "                ...   \n",
              "2020-06-04   -0.528134\n",
              "2020-06-05   -0.669089\n",
              "2020-06-06   -0.435860\n",
              "2020-06-07   -1.308892\n",
              "2020-06-08   -1.099797\n",
              "Freq: D, Name: A, Length: 100, dtype: float64"
            ]
          },
          "metadata": {
            "tags": []
          },
          "execution_count": 85
        }
      ]
    },
    {
      "cell_type": "code",
      "metadata": {
        "colab": {
          "base_uri": "https://localhost:8080/",
          "height": 424
        },
        "id": "1OXN1nWyC2jV",
        "outputId": "34f9b550-8192-47b3-cf15-2c935b4d12b8"
      },
      "source": [
        "df[['A','B']]"
      ],
      "execution_count": 87,
      "outputs": [
        {
          "output_type": "execute_result",
          "data": {
            "text/html": [
              "<div>\n",
              "<style scoped>\n",
              "    .dataframe tbody tr th:only-of-type {\n",
              "        vertical-align: middle;\n",
              "    }\n",
              "\n",
              "    .dataframe tbody tr th {\n",
              "        vertical-align: top;\n",
              "    }\n",
              "\n",
              "    .dataframe thead th {\n",
              "        text-align: right;\n",
              "    }\n",
              "</style>\n",
              "<table border=\"1\" class=\"dataframe\">\n",
              "  <thead>\n",
              "    <tr style=\"text-align: right;\">\n",
              "      <th></th>\n",
              "      <th>A</th>\n",
              "      <th>B</th>\n",
              "    </tr>\n",
              "  </thead>\n",
              "  <tbody>\n",
              "    <tr>\n",
              "      <th>2020-03-01</th>\n",
              "      <td>-0.135540</td>\n",
              "      <td>-0.856945</td>\n",
              "    </tr>\n",
              "    <tr>\n",
              "      <th>2020-03-02</th>\n",
              "      <td>0.525037</td>\n",
              "      <td>0.589724</td>\n",
              "    </tr>\n",
              "    <tr>\n",
              "      <th>2020-03-03</th>\n",
              "      <td>-0.381519</td>\n",
              "      <td>2.530363</td>\n",
              "    </tr>\n",
              "    <tr>\n",
              "      <th>2020-03-04</th>\n",
              "      <td>-0.114909</td>\n",
              "      <td>-0.971451</td>\n",
              "    </tr>\n",
              "    <tr>\n",
              "      <th>2020-03-05</th>\n",
              "      <td>0.528383</td>\n",
              "      <td>0.583538</td>\n",
              "    </tr>\n",
              "    <tr>\n",
              "      <th>...</th>\n",
              "      <td>...</td>\n",
              "      <td>...</td>\n",
              "    </tr>\n",
              "    <tr>\n",
              "      <th>2020-06-04</th>\n",
              "      <td>-0.528134</td>\n",
              "      <td>-2.097465</td>\n",
              "    </tr>\n",
              "    <tr>\n",
              "      <th>2020-06-05</th>\n",
              "      <td>-0.669089</td>\n",
              "      <td>-1.579957</td>\n",
              "    </tr>\n",
              "    <tr>\n",
              "      <th>2020-06-06</th>\n",
              "      <td>-0.435860</td>\n",
              "      <td>-0.409949</td>\n",
              "    </tr>\n",
              "    <tr>\n",
              "      <th>2020-06-07</th>\n",
              "      <td>-1.308892</td>\n",
              "      <td>0.413231</td>\n",
              "    </tr>\n",
              "    <tr>\n",
              "      <th>2020-06-08</th>\n",
              "      <td>-1.099797</td>\n",
              "      <td>0.671590</td>\n",
              "    </tr>\n",
              "  </tbody>\n",
              "</table>\n",
              "<p>100 rows × 2 columns</p>\n",
              "</div>"
            ],
            "text/plain": [
              "                   A         B\n",
              "2020-03-01 -0.135540 -0.856945\n",
              "2020-03-02  0.525037  0.589724\n",
              "2020-03-03 -0.381519  2.530363\n",
              "2020-03-04 -0.114909 -0.971451\n",
              "2020-03-05  0.528383  0.583538\n",
              "...              ...       ...\n",
              "2020-06-04 -0.528134 -2.097465\n",
              "2020-06-05 -0.669089 -1.579957\n",
              "2020-06-06 -0.435860 -0.409949\n",
              "2020-06-07 -1.308892  0.413231\n",
              "2020-06-08 -1.099797  0.671590\n",
              "\n",
              "[100 rows x 2 columns]"
            ]
          },
          "metadata": {
            "tags": []
          },
          "execution_count": 87
        }
      ]
    },
    {
      "cell_type": "code",
      "metadata": {
        "colab": {
          "base_uri": "https://localhost:8080/",
          "height": 206
        },
        "id": "3QH02uOvCqxZ",
        "outputId": "f336585a-7731-4038-e6a0-2e35b19f7397"
      },
      "source": [
        "\n",
        "df[['A','B']][0:5]"
      ],
      "execution_count": 88,
      "outputs": [
        {
          "output_type": "execute_result",
          "data": {
            "text/html": [
              "<div>\n",
              "<style scoped>\n",
              "    .dataframe tbody tr th:only-of-type {\n",
              "        vertical-align: middle;\n",
              "    }\n",
              "\n",
              "    .dataframe tbody tr th {\n",
              "        vertical-align: top;\n",
              "    }\n",
              "\n",
              "    .dataframe thead th {\n",
              "        text-align: right;\n",
              "    }\n",
              "</style>\n",
              "<table border=\"1\" class=\"dataframe\">\n",
              "  <thead>\n",
              "    <tr style=\"text-align: right;\">\n",
              "      <th></th>\n",
              "      <th>A</th>\n",
              "      <th>B</th>\n",
              "    </tr>\n",
              "  </thead>\n",
              "  <tbody>\n",
              "    <tr>\n",
              "      <th>2020-03-01</th>\n",
              "      <td>-0.135540</td>\n",
              "      <td>-0.856945</td>\n",
              "    </tr>\n",
              "    <tr>\n",
              "      <th>2020-03-02</th>\n",
              "      <td>0.525037</td>\n",
              "      <td>0.589724</td>\n",
              "    </tr>\n",
              "    <tr>\n",
              "      <th>2020-03-03</th>\n",
              "      <td>-0.381519</td>\n",
              "      <td>2.530363</td>\n",
              "    </tr>\n",
              "    <tr>\n",
              "      <th>2020-03-04</th>\n",
              "      <td>-0.114909</td>\n",
              "      <td>-0.971451</td>\n",
              "    </tr>\n",
              "    <tr>\n",
              "      <th>2020-03-05</th>\n",
              "      <td>0.528383</td>\n",
              "      <td>0.583538</td>\n",
              "    </tr>\n",
              "  </tbody>\n",
              "</table>\n",
              "</div>"
            ],
            "text/plain": [
              "                   A         B\n",
              "2020-03-01 -0.135540 -0.856945\n",
              "2020-03-02  0.525037  0.589724\n",
              "2020-03-03 -0.381519  2.530363\n",
              "2020-03-04 -0.114909 -0.971451\n",
              "2020-03-05  0.528383  0.583538"
            ]
          },
          "metadata": {
            "tags": []
          },
          "execution_count": 88
        }
      ]
    },
    {
      "cell_type": "code",
      "metadata": {
        "colab": {
          "base_uri": "https://localhost:8080/",
          "height": 520
        },
        "id": "krxn8O1TDRtj",
        "outputId": "32c974c6-a77d-48db-ded5-8a7835a9eec2"
      },
      "source": [
        "df[df.A>1.1]"
      ],
      "execution_count": 92,
      "outputs": [
        {
          "output_type": "execute_result",
          "data": {
            "text/html": [
              "<div>\n",
              "<style scoped>\n",
              "    .dataframe tbody tr th:only-of-type {\n",
              "        vertical-align: middle;\n",
              "    }\n",
              "\n",
              "    .dataframe tbody tr th {\n",
              "        vertical-align: top;\n",
              "    }\n",
              "\n",
              "    .dataframe thead th {\n",
              "        text-align: right;\n",
              "    }\n",
              "</style>\n",
              "<table border=\"1\" class=\"dataframe\">\n",
              "  <thead>\n",
              "    <tr style=\"text-align: right;\">\n",
              "      <th></th>\n",
              "      <th>A</th>\n",
              "      <th>B</th>\n",
              "      <th>C</th>\n",
              "      <th>D</th>\n",
              "      <th>E</th>\n",
              "    </tr>\n",
              "  </thead>\n",
              "  <tbody>\n",
              "    <tr>\n",
              "      <th>2020-03-10</th>\n",
              "      <td>1.860097</td>\n",
              "      <td>-0.063118</td>\n",
              "      <td>-1.211742</td>\n",
              "      <td>-0.734412</td>\n",
              "      <td>0.678620</td>\n",
              "    </tr>\n",
              "    <tr>\n",
              "      <th>2020-03-19</th>\n",
              "      <td>1.365924</td>\n",
              "      <td>-0.725494</td>\n",
              "      <td>0.164184</td>\n",
              "      <td>0.877042</td>\n",
              "      <td>-1.026324</td>\n",
              "    </tr>\n",
              "    <tr>\n",
              "      <th>2020-03-22</th>\n",
              "      <td>1.149846</td>\n",
              "      <td>1.345813</td>\n",
              "      <td>0.042598</td>\n",
              "      <td>0.768228</td>\n",
              "      <td>-0.581573</td>\n",
              "    </tr>\n",
              "    <tr>\n",
              "      <th>2020-03-23</th>\n",
              "      <td>1.767685</td>\n",
              "      <td>1.599902</td>\n",
              "      <td>0.278222</td>\n",
              "      <td>-0.725061</td>\n",
              "      <td>-0.288093</td>\n",
              "    </tr>\n",
              "    <tr>\n",
              "      <th>2020-03-28</th>\n",
              "      <td>1.321573</td>\n",
              "      <td>1.778219</td>\n",
              "      <td>2.546331</td>\n",
              "      <td>-1.031908</td>\n",
              "      <td>-2.998553</td>\n",
              "    </tr>\n",
              "    <tr>\n",
              "      <th>2020-04-09</th>\n",
              "      <td>1.415636</td>\n",
              "      <td>0.449360</td>\n",
              "      <td>0.385754</td>\n",
              "      <td>-1.903136</td>\n",
              "      <td>0.795246</td>\n",
              "    </tr>\n",
              "    <tr>\n",
              "      <th>2020-04-13</th>\n",
              "      <td>1.161977</td>\n",
              "      <td>-0.229682</td>\n",
              "      <td>0.404596</td>\n",
              "      <td>-0.209445</td>\n",
              "      <td>1.396322</td>\n",
              "    </tr>\n",
              "    <tr>\n",
              "      <th>2020-04-14</th>\n",
              "      <td>1.828122</td>\n",
              "      <td>-1.472529</td>\n",
              "      <td>0.820434</td>\n",
              "      <td>1.564382</td>\n",
              "      <td>0.600352</td>\n",
              "    </tr>\n",
              "    <tr>\n",
              "      <th>2020-04-26</th>\n",
              "      <td>1.701895</td>\n",
              "      <td>1.273218</td>\n",
              "      <td>-0.262805</td>\n",
              "      <td>2.217302</td>\n",
              "      <td>0.199351</td>\n",
              "    </tr>\n",
              "    <tr>\n",
              "      <th>2020-04-29</th>\n",
              "      <td>1.385251</td>\n",
              "      <td>0.722171</td>\n",
              "      <td>-0.233534</td>\n",
              "      <td>0.537598</td>\n",
              "      <td>0.472454</td>\n",
              "    </tr>\n",
              "    <tr>\n",
              "      <th>2020-05-11</th>\n",
              "      <td>1.114075</td>\n",
              "      <td>0.550027</td>\n",
              "      <td>-1.904939</td>\n",
              "      <td>1.670767</td>\n",
              "      <td>-1.950095</td>\n",
              "    </tr>\n",
              "    <tr>\n",
              "      <th>2020-05-12</th>\n",
              "      <td>1.634651</td>\n",
              "      <td>-0.064830</td>\n",
              "      <td>0.070851</td>\n",
              "      <td>-0.254554</td>\n",
              "      <td>1.233374</td>\n",
              "    </tr>\n",
              "    <tr>\n",
              "      <th>2020-05-18</th>\n",
              "      <td>1.253775</td>\n",
              "      <td>-0.321734</td>\n",
              "      <td>-1.968177</td>\n",
              "      <td>-0.891829</td>\n",
              "      <td>0.711485</td>\n",
              "    </tr>\n",
              "    <tr>\n",
              "      <th>2020-05-26</th>\n",
              "      <td>2.327715</td>\n",
              "      <td>-3.959199</td>\n",
              "      <td>1.071337</td>\n",
              "      <td>-0.728214</td>\n",
              "      <td>0.663206</td>\n",
              "    </tr>\n",
              "    <tr>\n",
              "      <th>2020-05-28</th>\n",
              "      <td>1.805349</td>\n",
              "      <td>-0.249275</td>\n",
              "      <td>-0.574841</td>\n",
              "      <td>1.228307</td>\n",
              "      <td>-0.365502</td>\n",
              "    </tr>\n",
              "  </tbody>\n",
              "</table>\n",
              "</div>"
            ],
            "text/plain": [
              "                   A         B         C         D         E\n",
              "2020-03-10  1.860097 -0.063118 -1.211742 -0.734412  0.678620\n",
              "2020-03-19  1.365924 -0.725494  0.164184  0.877042 -1.026324\n",
              "2020-03-22  1.149846  1.345813  0.042598  0.768228 -0.581573\n",
              "2020-03-23  1.767685  1.599902  0.278222 -0.725061 -0.288093\n",
              "2020-03-28  1.321573  1.778219  2.546331 -1.031908 -2.998553\n",
              "2020-04-09  1.415636  0.449360  0.385754 -1.903136  0.795246\n",
              "2020-04-13  1.161977 -0.229682  0.404596 -0.209445  1.396322\n",
              "2020-04-14  1.828122 -1.472529  0.820434  1.564382  0.600352\n",
              "2020-04-26  1.701895  1.273218 -0.262805  2.217302  0.199351\n",
              "2020-04-29  1.385251  0.722171 -0.233534  0.537598  0.472454\n",
              "2020-05-11  1.114075  0.550027 -1.904939  1.670767 -1.950095\n",
              "2020-05-12  1.634651 -0.064830  0.070851 -0.254554  1.233374\n",
              "2020-05-18  1.253775 -0.321734 -1.968177 -0.891829  0.711485\n",
              "2020-05-26  2.327715 -3.959199  1.071337 -0.728214  0.663206\n",
              "2020-05-28  1.805349 -0.249275 -0.574841  1.228307 -0.365502"
            ]
          },
          "metadata": {
            "tags": []
          },
          "execution_count": 92
        }
      ]
    },
    {
      "cell_type": "code",
      "metadata": {
        "id": "HxTQ6lKFDW9s"
      },
      "source": [
        ""
      ],
      "execution_count": 97,
      "outputs": []
    },
    {
      "cell_type": "code",
      "metadata": {
        "colab": {
          "base_uri": "https://localhost:8080/",
          "height": 424
        },
        "id": "ZezVH9vbDnBk",
        "outputId": "25d1cc44-f971-421a-9af7-aed6029ed47a"
      },
      "source": [
        "df.drop('A',axis=1,inplace=False)"
      ],
      "execution_count": 98,
      "outputs": [
        {
          "output_type": "execute_result",
          "data": {
            "text/html": [
              "<div>\n",
              "<style scoped>\n",
              "    .dataframe tbody tr th:only-of-type {\n",
              "        vertical-align: middle;\n",
              "    }\n",
              "\n",
              "    .dataframe tbody tr th {\n",
              "        vertical-align: top;\n",
              "    }\n",
              "\n",
              "    .dataframe thead th {\n",
              "        text-align: right;\n",
              "    }\n",
              "</style>\n",
              "<table border=\"1\" class=\"dataframe\">\n",
              "  <thead>\n",
              "    <tr style=\"text-align: right;\">\n",
              "      <th></th>\n",
              "      <th>B</th>\n",
              "      <th>C</th>\n",
              "      <th>D</th>\n",
              "      <th>E</th>\n",
              "    </tr>\n",
              "  </thead>\n",
              "  <tbody>\n",
              "    <tr>\n",
              "      <th>2020-03-01</th>\n",
              "      <td>-0.856945</td>\n",
              "      <td>1.693464</td>\n",
              "      <td>-0.035213</td>\n",
              "      <td>-0.918129</td>\n",
              "    </tr>\n",
              "    <tr>\n",
              "      <th>2020-03-02</th>\n",
              "      <td>0.589724</td>\n",
              "      <td>-1.103871</td>\n",
              "      <td>0.588731</td>\n",
              "      <td>-1.214577</td>\n",
              "    </tr>\n",
              "    <tr>\n",
              "      <th>2020-03-03</th>\n",
              "      <td>2.530363</td>\n",
              "      <td>-0.431943</td>\n",
              "      <td>1.391267</td>\n",
              "      <td>-0.506570</td>\n",
              "    </tr>\n",
              "    <tr>\n",
              "      <th>2020-03-04</th>\n",
              "      <td>-0.971451</td>\n",
              "      <td>2.042069</td>\n",
              "      <td>-2.583280</td>\n",
              "      <td>-2.385616</td>\n",
              "    </tr>\n",
              "    <tr>\n",
              "      <th>2020-03-05</th>\n",
              "      <td>0.583538</td>\n",
              "      <td>-1.484305</td>\n",
              "      <td>-0.639642</td>\n",
              "      <td>-0.829156</td>\n",
              "    </tr>\n",
              "    <tr>\n",
              "      <th>...</th>\n",
              "      <td>...</td>\n",
              "      <td>...</td>\n",
              "      <td>...</td>\n",
              "      <td>...</td>\n",
              "    </tr>\n",
              "    <tr>\n",
              "      <th>2020-06-04</th>\n",
              "      <td>-2.097465</td>\n",
              "      <td>-1.789905</td>\n",
              "      <td>-0.765978</td>\n",
              "      <td>-2.658492</td>\n",
              "    </tr>\n",
              "    <tr>\n",
              "      <th>2020-06-05</th>\n",
              "      <td>-1.579957</td>\n",
              "      <td>-0.771902</td>\n",
              "      <td>0.923702</td>\n",
              "      <td>-1.701865</td>\n",
              "    </tr>\n",
              "    <tr>\n",
              "      <th>2020-06-06</th>\n",
              "      <td>-0.409949</td>\n",
              "      <td>0.225786</td>\n",
              "      <td>-0.313428</td>\n",
              "      <td>2.124608</td>\n",
              "    </tr>\n",
              "    <tr>\n",
              "      <th>2020-06-07</th>\n",
              "      <td>0.413231</td>\n",
              "      <td>0.432763</td>\n",
              "      <td>-2.534826</td>\n",
              "      <td>1.229016</td>\n",
              "    </tr>\n",
              "    <tr>\n",
              "      <th>2020-06-08</th>\n",
              "      <td>0.671590</td>\n",
              "      <td>-0.107543</td>\n",
              "      <td>-0.650736</td>\n",
              "      <td>-2.256376</td>\n",
              "    </tr>\n",
              "  </tbody>\n",
              "</table>\n",
              "<p>100 rows × 4 columns</p>\n",
              "</div>"
            ],
            "text/plain": [
              "                   B         C         D         E\n",
              "2020-03-01 -0.856945  1.693464 -0.035213 -0.918129\n",
              "2020-03-02  0.589724 -1.103871  0.588731 -1.214577\n",
              "2020-03-03  2.530363 -0.431943  1.391267 -0.506570\n",
              "2020-03-04 -0.971451  2.042069 -2.583280 -2.385616\n",
              "2020-03-05  0.583538 -1.484305 -0.639642 -0.829156\n",
              "...              ...       ...       ...       ...\n",
              "2020-06-04 -2.097465 -1.789905 -0.765978 -2.658492\n",
              "2020-06-05 -1.579957 -0.771902  0.923702 -1.701865\n",
              "2020-06-06 -0.409949  0.225786 -0.313428  2.124608\n",
              "2020-06-07  0.413231  0.432763 -2.534826  1.229016\n",
              "2020-06-08  0.671590 -0.107543 -0.650736 -2.256376\n",
              "\n",
              "[100 rows x 4 columns]"
            ]
          },
          "metadata": {
            "tags": []
          },
          "execution_count": 98
        }
      ]
    },
    {
      "cell_type": "code",
      "metadata": {
        "colab": {
          "base_uri": "https://localhost:8080/",
          "height": 424
        },
        "id": "PeEVnkKBEB2l",
        "outputId": "41e4119b-2a4e-4f94-e2fc-dea943693aa0"
      },
      "source": [
        "df"
      ],
      "execution_count": 99,
      "outputs": [
        {
          "output_type": "execute_result",
          "data": {
            "text/html": [
              "<div>\n",
              "<style scoped>\n",
              "    .dataframe tbody tr th:only-of-type {\n",
              "        vertical-align: middle;\n",
              "    }\n",
              "\n",
              "    .dataframe tbody tr th {\n",
              "        vertical-align: top;\n",
              "    }\n",
              "\n",
              "    .dataframe thead th {\n",
              "        text-align: right;\n",
              "    }\n",
              "</style>\n",
              "<table border=\"1\" class=\"dataframe\">\n",
              "  <thead>\n",
              "    <tr style=\"text-align: right;\">\n",
              "      <th></th>\n",
              "      <th>A</th>\n",
              "      <th>B</th>\n",
              "      <th>C</th>\n",
              "      <th>D</th>\n",
              "      <th>E</th>\n",
              "    </tr>\n",
              "  </thead>\n",
              "  <tbody>\n",
              "    <tr>\n",
              "      <th>2020-03-01</th>\n",
              "      <td>-0.135540</td>\n",
              "      <td>-0.856945</td>\n",
              "      <td>1.693464</td>\n",
              "      <td>-0.035213</td>\n",
              "      <td>-0.918129</td>\n",
              "    </tr>\n",
              "    <tr>\n",
              "      <th>2020-03-02</th>\n",
              "      <td>0.525037</td>\n",
              "      <td>0.589724</td>\n",
              "      <td>-1.103871</td>\n",
              "      <td>0.588731</td>\n",
              "      <td>-1.214577</td>\n",
              "    </tr>\n",
              "    <tr>\n",
              "      <th>2020-03-03</th>\n",
              "      <td>-0.381519</td>\n",
              "      <td>2.530363</td>\n",
              "      <td>-0.431943</td>\n",
              "      <td>1.391267</td>\n",
              "      <td>-0.506570</td>\n",
              "    </tr>\n",
              "    <tr>\n",
              "      <th>2020-03-04</th>\n",
              "      <td>-0.114909</td>\n",
              "      <td>-0.971451</td>\n",
              "      <td>2.042069</td>\n",
              "      <td>-2.583280</td>\n",
              "      <td>-2.385616</td>\n",
              "    </tr>\n",
              "    <tr>\n",
              "      <th>2020-03-05</th>\n",
              "      <td>0.528383</td>\n",
              "      <td>0.583538</td>\n",
              "      <td>-1.484305</td>\n",
              "      <td>-0.639642</td>\n",
              "      <td>-0.829156</td>\n",
              "    </tr>\n",
              "    <tr>\n",
              "      <th>...</th>\n",
              "      <td>...</td>\n",
              "      <td>...</td>\n",
              "      <td>...</td>\n",
              "      <td>...</td>\n",
              "      <td>...</td>\n",
              "    </tr>\n",
              "    <tr>\n",
              "      <th>2020-06-04</th>\n",
              "      <td>-0.528134</td>\n",
              "      <td>-2.097465</td>\n",
              "      <td>-1.789905</td>\n",
              "      <td>-0.765978</td>\n",
              "      <td>-2.658492</td>\n",
              "    </tr>\n",
              "    <tr>\n",
              "      <th>2020-06-05</th>\n",
              "      <td>-0.669089</td>\n",
              "      <td>-1.579957</td>\n",
              "      <td>-0.771902</td>\n",
              "      <td>0.923702</td>\n",
              "      <td>-1.701865</td>\n",
              "    </tr>\n",
              "    <tr>\n",
              "      <th>2020-06-06</th>\n",
              "      <td>-0.435860</td>\n",
              "      <td>-0.409949</td>\n",
              "      <td>0.225786</td>\n",
              "      <td>-0.313428</td>\n",
              "      <td>2.124608</td>\n",
              "    </tr>\n",
              "    <tr>\n",
              "      <th>2020-06-07</th>\n",
              "      <td>-1.308892</td>\n",
              "      <td>0.413231</td>\n",
              "      <td>0.432763</td>\n",
              "      <td>-2.534826</td>\n",
              "      <td>1.229016</td>\n",
              "    </tr>\n",
              "    <tr>\n",
              "      <th>2020-06-08</th>\n",
              "      <td>-1.099797</td>\n",
              "      <td>0.671590</td>\n",
              "      <td>-0.107543</td>\n",
              "      <td>-0.650736</td>\n",
              "      <td>-2.256376</td>\n",
              "    </tr>\n",
              "  </tbody>\n",
              "</table>\n",
              "<p>100 rows × 5 columns</p>\n",
              "</div>"
            ],
            "text/plain": [
              "                   A         B         C         D         E\n",
              "2020-03-01 -0.135540 -0.856945  1.693464 -0.035213 -0.918129\n",
              "2020-03-02  0.525037  0.589724 -1.103871  0.588731 -1.214577\n",
              "2020-03-03 -0.381519  2.530363 -0.431943  1.391267 -0.506570\n",
              "2020-03-04 -0.114909 -0.971451  2.042069 -2.583280 -2.385616\n",
              "2020-03-05  0.528383  0.583538 -1.484305 -0.639642 -0.829156\n",
              "...              ...       ...       ...       ...       ...\n",
              "2020-06-04 -0.528134 -2.097465 -1.789905 -0.765978 -2.658492\n",
              "2020-06-05 -0.669089 -1.579957 -0.771902  0.923702 -1.701865\n",
              "2020-06-06 -0.435860 -0.409949  0.225786 -0.313428  2.124608\n",
              "2020-06-07 -1.308892  0.413231  0.432763 -2.534826  1.229016\n",
              "2020-06-08 -1.099797  0.671590 -0.107543 -0.650736 -2.256376\n",
              "\n",
              "[100 rows x 5 columns]"
            ]
          },
          "metadata": {
            "tags": []
          },
          "execution_count": 99
        }
      ]
    },
    {
      "cell_type": "code",
      "metadata": {
        "id": "ZpRtmAjnEEMk"
      },
      "source": [
        ""
      ],
      "execution_count": null,
      "outputs": []
    }
  ]
}