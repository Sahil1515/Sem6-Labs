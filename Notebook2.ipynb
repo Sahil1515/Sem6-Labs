{
  "nbformat": 4,
  "nbformat_minor": 0,
  "metadata": {
    "colab": {
      "name": "Notebook.ipynb",
      "provenance": [],
      "collapsed_sections": []
    },
    "kernelspec": {
      "name": "python3",
      "display_name": "Python 3"
    }
  },
  "cells": [
    {
      "cell_type": "code",
      "metadata": {
        "id": "WIp54Kdo42vG"
      },
      "source": [
        ""
      ],
      "execution_count": null,
      "outputs": []
    },
    {
      "cell_type": "markdown",
      "metadata": {
        "id": "BrvLEAZkHgLG"
      },
      "source": [
        "# Sahil Saini Salaria\n",
        "# 180905048\n",
        "# Roll No 11 C\n"
      ]
    },
    {
      "cell_type": "code",
      "metadata": {
        "colab": {
          "base_uri": "https://localhost:8080/"
        },
        "id": "DrYsVI7tHje2",
        "outputId": "62a206b6-ce0f-4c6b-ea04-13b642c512c2"
      },
      "source": [
        "import pandas as pd\n",
        "import numpy as np\n",
        "\n",
        "\n",
        "s=pd.Series([1,2,3,6,5,4])\n",
        "print(s)"
      ],
      "execution_count": 1,
      "outputs": [
        {
          "output_type": "stream",
          "text": [
            "0    1\n",
            "1    2\n",
            "2    3\n",
            "3    6\n",
            "4    5\n",
            "5    4\n",
            "dtype: int64\n"
          ],
          "name": "stdout"
        }
      ]
    },
    {
      "cell_type": "code",
      "metadata": {
        "id": "PgtskFns5fyj"
      },
      "source": [
        "sum=s.sum()"
      ],
      "execution_count": 2,
      "outputs": []
    },
    {
      "cell_type": "code",
      "metadata": {
        "colab": {
          "base_uri": "https://localhost:8080/"
        },
        "id": "yDFzEsLQ5nmr",
        "outputId": "bc336c31-5ade-47bf-ba33-74cce1031d30"
      },
      "source": [
        "s.min()"
      ],
      "execution_count": 3,
      "outputs": [
        {
          "output_type": "execute_result",
          "data": {
            "text/plain": [
              "1"
            ]
          },
          "metadata": {
            "tags": []
          },
          "execution_count": 3
        }
      ]
    },
    {
      "cell_type": "code",
      "metadata": {
        "colab": {
          "base_uri": "https://localhost:8080/"
        },
        "id": "6mxMzOKL5nvE",
        "outputId": "6ecc7265-55f2-4af4-e4aa-b513820aaf80"
      },
      "source": [
        "s.max()"
      ],
      "execution_count": 4,
      "outputs": [
        {
          "output_type": "execute_result",
          "data": {
            "text/plain": [
              "6"
            ]
          },
          "metadata": {
            "tags": []
          },
          "execution_count": 4
        }
      ]
    },
    {
      "cell_type": "code",
      "metadata": {
        "colab": {
          "base_uri": "https://localhost:8080/",
          "height": 144
        },
        "id": "Px73hYhO5sph",
        "outputId": "e2ddf0d2-8bc9-42b9-968c-93ab4c72a614"
      },
      "source": [
        "import pandas as pd\n",
        "\n",
        "data=[['Dinesh',10],['Nithya',12],['Raji',13]]\n",
        "df=pd.DataFrame(data,columns=['name','age'])\n",
        "df"
      ],
      "execution_count": 5,
      "outputs": [
        {
          "output_type": "execute_result",
          "data": {
            "text/html": [
              "<div>\n",
              "<style scoped>\n",
              "    .dataframe tbody tr th:only-of-type {\n",
              "        vertical-align: middle;\n",
              "    }\n",
              "\n",
              "    .dataframe tbody tr th {\n",
              "        vertical-align: top;\n",
              "    }\n",
              "\n",
              "    .dataframe thead th {\n",
              "        text-align: right;\n",
              "    }\n",
              "</style>\n",
              "<table border=\"1\" class=\"dataframe\">\n",
              "  <thead>\n",
              "    <tr style=\"text-align: right;\">\n",
              "      <th></th>\n",
              "      <th>name</th>\n",
              "      <th>age</th>\n",
              "    </tr>\n",
              "  </thead>\n",
              "  <tbody>\n",
              "    <tr>\n",
              "      <th>0</th>\n",
              "      <td>Dinesh</td>\n",
              "      <td>10</td>\n",
              "    </tr>\n",
              "    <tr>\n",
              "      <th>1</th>\n",
              "      <td>Nithya</td>\n",
              "      <td>12</td>\n",
              "    </tr>\n",
              "    <tr>\n",
              "      <th>2</th>\n",
              "      <td>Raji</td>\n",
              "      <td>13</td>\n",
              "    </tr>\n",
              "  </tbody>\n",
              "</table>\n",
              "</div>"
            ],
            "text/plain": [
              "     name  age\n",
              "0  Dinesh   10\n",
              "1  Nithya   12\n",
              "2    Raji   13"
            ]
          },
          "metadata": {
            "tags": []
          },
          "execution_count": 5
        }
      ]
    },
    {
      "cell_type": "code",
      "metadata": {
        "colab": {
          "base_uri": "https://localhost:8080/",
          "height": 175
        },
        "id": "AHr6w4nt5ztY",
        "outputId": "b50ef715-db35-429c-9f60-1c8b249a23ad"
      },
      "source": [
        "data = {'Name':['Kavitha', 'Sudha', 'Raju','Vignesh'],'Age':[28,34,29,42]}\n",
        "df = pd.DataFrame(data, index=['rank1','rank2','rank3','rank4'])\n",
        "df"
      ],
      "execution_count": 6,
      "outputs": [
        {
          "output_type": "execute_result",
          "data": {
            "text/html": [
              "<div>\n",
              "<style scoped>\n",
              "    .dataframe tbody tr th:only-of-type {\n",
              "        vertical-align: middle;\n",
              "    }\n",
              "\n",
              "    .dataframe tbody tr th {\n",
              "        vertical-align: top;\n",
              "    }\n",
              "\n",
              "    .dataframe thead th {\n",
              "        text-align: right;\n",
              "    }\n",
              "</style>\n",
              "<table border=\"1\" class=\"dataframe\">\n",
              "  <thead>\n",
              "    <tr style=\"text-align: right;\">\n",
              "      <th></th>\n",
              "      <th>Name</th>\n",
              "      <th>Age</th>\n",
              "    </tr>\n",
              "  </thead>\n",
              "  <tbody>\n",
              "    <tr>\n",
              "      <th>rank1</th>\n",
              "      <td>Kavitha</td>\n",
              "      <td>28</td>\n",
              "    </tr>\n",
              "    <tr>\n",
              "      <th>rank2</th>\n",
              "      <td>Sudha</td>\n",
              "      <td>34</td>\n",
              "    </tr>\n",
              "    <tr>\n",
              "      <th>rank3</th>\n",
              "      <td>Raju</td>\n",
              "      <td>29</td>\n",
              "    </tr>\n",
              "    <tr>\n",
              "      <th>rank4</th>\n",
              "      <td>Vignesh</td>\n",
              "      <td>42</td>\n",
              "    </tr>\n",
              "  </tbody>\n",
              "</table>\n",
              "</div>"
            ],
            "text/plain": [
              "          Name  Age\n",
              "rank1  Kavitha   28\n",
              "rank2    Sudha   34\n",
              "rank3     Raju   29\n",
              "rank4  Vignesh   42"
            ]
          },
          "metadata": {
            "tags": []
          },
          "execution_count": 6
        }
      ]
    },
    {
      "cell_type": "code",
      "metadata": {
        "colab": {
          "base_uri": "https://localhost:8080/",
          "height": 175
        },
        "id": "UM2o81gz6ym7",
        "outputId": "ece7d2f3-db1d-4f79-8473-6b4f29def7c8"
      },
      "source": [
        "df1=pd.DataFrame({'A':pd.Timestamp('20130102'),'B':np.array([3]*4,dtype='int32'),'C':pd.Categorical(['Male','Female','Male','Female'])})\n",
        "df1"
      ],
      "execution_count": 7,
      "outputs": [
        {
          "output_type": "execute_result",
          "data": {
            "text/html": [
              "<div>\n",
              "<style scoped>\n",
              "    .dataframe tbody tr th:only-of-type {\n",
              "        vertical-align: middle;\n",
              "    }\n",
              "\n",
              "    .dataframe tbody tr th {\n",
              "        vertical-align: top;\n",
              "    }\n",
              "\n",
              "    .dataframe thead th {\n",
              "        text-align: right;\n",
              "    }\n",
              "</style>\n",
              "<table border=\"1\" class=\"dataframe\">\n",
              "  <thead>\n",
              "    <tr style=\"text-align: right;\">\n",
              "      <th></th>\n",
              "      <th>A</th>\n",
              "      <th>B</th>\n",
              "      <th>C</th>\n",
              "    </tr>\n",
              "  </thead>\n",
              "  <tbody>\n",
              "    <tr>\n",
              "      <th>0</th>\n",
              "      <td>2013-01-02</td>\n",
              "      <td>3</td>\n",
              "      <td>Male</td>\n",
              "    </tr>\n",
              "    <tr>\n",
              "      <th>1</th>\n",
              "      <td>2013-01-02</td>\n",
              "      <td>3</td>\n",
              "      <td>Female</td>\n",
              "    </tr>\n",
              "    <tr>\n",
              "      <th>2</th>\n",
              "      <td>2013-01-02</td>\n",
              "      <td>3</td>\n",
              "      <td>Male</td>\n",
              "    </tr>\n",
              "    <tr>\n",
              "      <th>3</th>\n",
              "      <td>2013-01-02</td>\n",
              "      <td>3</td>\n",
              "      <td>Female</td>\n",
              "    </tr>\n",
              "  </tbody>\n",
              "</table>\n",
              "</div>"
            ],
            "text/plain": [
              "           A  B       C\n",
              "0 2013-01-02  3    Male\n",
              "1 2013-01-02  3  Female\n",
              "2 2013-01-02  3    Male\n",
              "3 2013-01-02  3  Female"
            ]
          },
          "metadata": {
            "tags": []
          },
          "execution_count": 7
        }
      ]
    },
    {
      "cell_type": "code",
      "metadata": {
        "colab": {
          "base_uri": "https://localhost:8080/"
        },
        "id": "aTDl7LxN7RAa",
        "outputId": "5d4d4b4f-03c4-4cd7-9702-9e02eba57b17"
      },
      "source": [
        "df1.shape"
      ],
      "execution_count": 8,
      "outputs": [
        {
          "output_type": "execute_result",
          "data": {
            "text/plain": [
              "(4, 3)"
            ]
          },
          "metadata": {
            "tags": []
          },
          "execution_count": 8
        }
      ]
    },
    {
      "cell_type": "code",
      "metadata": {
        "colab": {
          "base_uri": "https://localhost:8080/"
        },
        "id": "MCzvm6ga7jTr",
        "outputId": "40b84294-e367-454e-ad5a-90de852ef627"
      },
      "source": [
        "df1.dtypes"
      ],
      "execution_count": 9,
      "outputs": [
        {
          "output_type": "execute_result",
          "data": {
            "text/plain": [
              "A    datetime64[ns]\n",
              "B             int32\n",
              "C          category\n",
              "dtype: object"
            ]
          },
          "metadata": {
            "tags": []
          },
          "execution_count": 9
        }
      ]
    },
    {
      "cell_type": "code",
      "metadata": {
        "colab": {
          "base_uri": "https://localhost:8080/",
          "height": 175
        },
        "id": "4jWDUi2J7tha",
        "outputId": "0307947b-515e-4812-b9cc-2ce180407c38"
      },
      "source": [
        "df1.head()"
      ],
      "execution_count": 10,
      "outputs": [
        {
          "output_type": "execute_result",
          "data": {
            "text/html": [
              "<div>\n",
              "<style scoped>\n",
              "    .dataframe tbody tr th:only-of-type {\n",
              "        vertical-align: middle;\n",
              "    }\n",
              "\n",
              "    .dataframe tbody tr th {\n",
              "        vertical-align: top;\n",
              "    }\n",
              "\n",
              "    .dataframe thead th {\n",
              "        text-align: right;\n",
              "    }\n",
              "</style>\n",
              "<table border=\"1\" class=\"dataframe\">\n",
              "  <thead>\n",
              "    <tr style=\"text-align: right;\">\n",
              "      <th></th>\n",
              "      <th>A</th>\n",
              "      <th>B</th>\n",
              "      <th>C</th>\n",
              "    </tr>\n",
              "  </thead>\n",
              "  <tbody>\n",
              "    <tr>\n",
              "      <th>0</th>\n",
              "      <td>2013-01-02</td>\n",
              "      <td>3</td>\n",
              "      <td>Male</td>\n",
              "    </tr>\n",
              "    <tr>\n",
              "      <th>1</th>\n",
              "      <td>2013-01-02</td>\n",
              "      <td>3</td>\n",
              "      <td>Female</td>\n",
              "    </tr>\n",
              "    <tr>\n",
              "      <th>2</th>\n",
              "      <td>2013-01-02</td>\n",
              "      <td>3</td>\n",
              "      <td>Male</td>\n",
              "    </tr>\n",
              "    <tr>\n",
              "      <th>3</th>\n",
              "      <td>2013-01-02</td>\n",
              "      <td>3</td>\n",
              "      <td>Female</td>\n",
              "    </tr>\n",
              "  </tbody>\n",
              "</table>\n",
              "</div>"
            ],
            "text/plain": [
              "           A  B       C\n",
              "0 2013-01-02  3    Male\n",
              "1 2013-01-02  3  Female\n",
              "2 2013-01-02  3    Male\n",
              "3 2013-01-02  3  Female"
            ]
          },
          "metadata": {
            "tags": []
          },
          "execution_count": 10
        }
      ]
    },
    {
      "cell_type": "code",
      "metadata": {
        "colab": {
          "base_uri": "https://localhost:8080/",
          "height": 175
        },
        "id": "V4Lhj5np7xR7",
        "outputId": "b36241a1-8e83-4f9d-ee13-09bf678136e4"
      },
      "source": [
        "df1.tail()"
      ],
      "execution_count": 11,
      "outputs": [
        {
          "output_type": "execute_result",
          "data": {
            "text/html": [
              "<div>\n",
              "<style scoped>\n",
              "    .dataframe tbody tr th:only-of-type {\n",
              "        vertical-align: middle;\n",
              "    }\n",
              "\n",
              "    .dataframe tbody tr th {\n",
              "        vertical-align: top;\n",
              "    }\n",
              "\n",
              "    .dataframe thead th {\n",
              "        text-align: right;\n",
              "    }\n",
              "</style>\n",
              "<table border=\"1\" class=\"dataframe\">\n",
              "  <thead>\n",
              "    <tr style=\"text-align: right;\">\n",
              "      <th></th>\n",
              "      <th>A</th>\n",
              "      <th>B</th>\n",
              "      <th>C</th>\n",
              "    </tr>\n",
              "  </thead>\n",
              "  <tbody>\n",
              "    <tr>\n",
              "      <th>0</th>\n",
              "      <td>2013-01-02</td>\n",
              "      <td>3</td>\n",
              "      <td>Male</td>\n",
              "    </tr>\n",
              "    <tr>\n",
              "      <th>1</th>\n",
              "      <td>2013-01-02</td>\n",
              "      <td>3</td>\n",
              "      <td>Female</td>\n",
              "    </tr>\n",
              "    <tr>\n",
              "      <th>2</th>\n",
              "      <td>2013-01-02</td>\n",
              "      <td>3</td>\n",
              "      <td>Male</td>\n",
              "    </tr>\n",
              "    <tr>\n",
              "      <th>3</th>\n",
              "      <td>2013-01-02</td>\n",
              "      <td>3</td>\n",
              "      <td>Female</td>\n",
              "    </tr>\n",
              "  </tbody>\n",
              "</table>\n",
              "</div>"
            ],
            "text/plain": [
              "           A  B       C\n",
              "0 2013-01-02  3    Male\n",
              "1 2013-01-02  3  Female\n",
              "2 2013-01-02  3    Male\n",
              "3 2013-01-02  3  Female"
            ]
          },
          "metadata": {
            "tags": []
          },
          "execution_count": 11
        }
      ]
    },
    {
      "cell_type": "code",
      "metadata": {
        "colab": {
          "base_uri": "https://localhost:8080/"
        },
        "id": "vq6A3nZf7z9K",
        "outputId": "cfe1bdae-7f5a-4dfe-ca29-26ddd2e7ee2e"
      },
      "source": [
        "type(df1)"
      ],
      "execution_count": 12,
      "outputs": [
        {
          "output_type": "execute_result",
          "data": {
            "text/plain": [
              "pandas.core.frame.DataFrame"
            ]
          },
          "metadata": {
            "tags": []
          },
          "execution_count": 12
        }
      ]
    },
    {
      "cell_type": "code",
      "metadata": {
        "id": "N0xRl99Z715y"
      },
      "source": [
        "# df1.summary()"
      ],
      "execution_count": 13,
      "outputs": []
    },
    {
      "cell_type": "code",
      "metadata": {
        "colab": {
          "base_uri": "https://localhost:8080/",
          "height": 144
        },
        "id": "p_DCmLfc8TV6",
        "outputId": "45aaa0d0-92e8-41e5-c636-5d3e82a20231"
      },
      "source": [
        "df1.T"
      ],
      "execution_count": 14,
      "outputs": [
        {
          "output_type": "execute_result",
          "data": {
            "text/html": [
              "<div>\n",
              "<style scoped>\n",
              "    .dataframe tbody tr th:only-of-type {\n",
              "        vertical-align: middle;\n",
              "    }\n",
              "\n",
              "    .dataframe tbody tr th {\n",
              "        vertical-align: top;\n",
              "    }\n",
              "\n",
              "    .dataframe thead th {\n",
              "        text-align: right;\n",
              "    }\n",
              "</style>\n",
              "<table border=\"1\" class=\"dataframe\">\n",
              "  <thead>\n",
              "    <tr style=\"text-align: right;\">\n",
              "      <th></th>\n",
              "      <th>0</th>\n",
              "      <th>1</th>\n",
              "      <th>2</th>\n",
              "      <th>3</th>\n",
              "    </tr>\n",
              "  </thead>\n",
              "  <tbody>\n",
              "    <tr>\n",
              "      <th>A</th>\n",
              "      <td>2013-01-02 00:00:00</td>\n",
              "      <td>2013-01-02 00:00:00</td>\n",
              "      <td>2013-01-02 00:00:00</td>\n",
              "      <td>2013-01-02 00:00:00</td>\n",
              "    </tr>\n",
              "    <tr>\n",
              "      <th>B</th>\n",
              "      <td>3</td>\n",
              "      <td>3</td>\n",
              "      <td>3</td>\n",
              "      <td>3</td>\n",
              "    </tr>\n",
              "    <tr>\n",
              "      <th>C</th>\n",
              "      <td>Male</td>\n",
              "      <td>Female</td>\n",
              "      <td>Male</td>\n",
              "      <td>Female</td>\n",
              "    </tr>\n",
              "  </tbody>\n",
              "</table>\n",
              "</div>"
            ],
            "text/plain": [
              "                     0  ...                    3\n",
              "A  2013-01-02 00:00:00  ...  2013-01-02 00:00:00\n",
              "B                    3  ...                    3\n",
              "C                 Male  ...               Female\n",
              "\n",
              "[3 rows x 4 columns]"
            ]
          },
          "metadata": {
            "tags": []
          },
          "execution_count": 14
        }
      ]
    },
    {
      "cell_type": "code",
      "metadata": {
        "colab": {
          "base_uri": "https://localhost:8080/",
          "height": 175
        },
        "id": "KJMMRbGx8Vqz",
        "outputId": "9f9f5ed0-f0a2-4743-b24c-8b9ae95a4f22"
      },
      "source": [
        "df1"
      ],
      "execution_count": 15,
      "outputs": [
        {
          "output_type": "execute_result",
          "data": {
            "text/html": [
              "<div>\n",
              "<style scoped>\n",
              "    .dataframe tbody tr th:only-of-type {\n",
              "        vertical-align: middle;\n",
              "    }\n",
              "\n",
              "    .dataframe tbody tr th {\n",
              "        vertical-align: top;\n",
              "    }\n",
              "\n",
              "    .dataframe thead th {\n",
              "        text-align: right;\n",
              "    }\n",
              "</style>\n",
              "<table border=\"1\" class=\"dataframe\">\n",
              "  <thead>\n",
              "    <tr style=\"text-align: right;\">\n",
              "      <th></th>\n",
              "      <th>A</th>\n",
              "      <th>B</th>\n",
              "      <th>C</th>\n",
              "    </tr>\n",
              "  </thead>\n",
              "  <tbody>\n",
              "    <tr>\n",
              "      <th>0</th>\n",
              "      <td>2013-01-02</td>\n",
              "      <td>3</td>\n",
              "      <td>Male</td>\n",
              "    </tr>\n",
              "    <tr>\n",
              "      <th>1</th>\n",
              "      <td>2013-01-02</td>\n",
              "      <td>3</td>\n",
              "      <td>Female</td>\n",
              "    </tr>\n",
              "    <tr>\n",
              "      <th>2</th>\n",
              "      <td>2013-01-02</td>\n",
              "      <td>3</td>\n",
              "      <td>Male</td>\n",
              "    </tr>\n",
              "    <tr>\n",
              "      <th>3</th>\n",
              "      <td>2013-01-02</td>\n",
              "      <td>3</td>\n",
              "      <td>Female</td>\n",
              "    </tr>\n",
              "  </tbody>\n",
              "</table>\n",
              "</div>"
            ],
            "text/plain": [
              "           A  B       C\n",
              "0 2013-01-02  3    Male\n",
              "1 2013-01-02  3  Female\n",
              "2 2013-01-02  3    Male\n",
              "3 2013-01-02  3  Female"
            ]
          },
          "metadata": {
            "tags": []
          },
          "execution_count": 15
        }
      ]
    },
    {
      "cell_type": "code",
      "metadata": {
        "colab": {
          "base_uri": "https://localhost:8080/",
          "height": 175
        },
        "id": "DFbGLTGb-GaK",
        "outputId": "d9d42c4d-3db5-42bb-92d0-7eace60e462b"
      },
      "source": [
        "df1.sort_index(axis=0,ascending=False)"
      ],
      "execution_count": 16,
      "outputs": [
        {
          "output_type": "execute_result",
          "data": {
            "text/html": [
              "<div>\n",
              "<style scoped>\n",
              "    .dataframe tbody tr th:only-of-type {\n",
              "        vertical-align: middle;\n",
              "    }\n",
              "\n",
              "    .dataframe tbody tr th {\n",
              "        vertical-align: top;\n",
              "    }\n",
              "\n",
              "    .dataframe thead th {\n",
              "        text-align: right;\n",
              "    }\n",
              "</style>\n",
              "<table border=\"1\" class=\"dataframe\">\n",
              "  <thead>\n",
              "    <tr style=\"text-align: right;\">\n",
              "      <th></th>\n",
              "      <th>A</th>\n",
              "      <th>B</th>\n",
              "      <th>C</th>\n",
              "    </tr>\n",
              "  </thead>\n",
              "  <tbody>\n",
              "    <tr>\n",
              "      <th>3</th>\n",
              "      <td>2013-01-02</td>\n",
              "      <td>3</td>\n",
              "      <td>Female</td>\n",
              "    </tr>\n",
              "    <tr>\n",
              "      <th>2</th>\n",
              "      <td>2013-01-02</td>\n",
              "      <td>3</td>\n",
              "      <td>Male</td>\n",
              "    </tr>\n",
              "    <tr>\n",
              "      <th>1</th>\n",
              "      <td>2013-01-02</td>\n",
              "      <td>3</td>\n",
              "      <td>Female</td>\n",
              "    </tr>\n",
              "    <tr>\n",
              "      <th>0</th>\n",
              "      <td>2013-01-02</td>\n",
              "      <td>3</td>\n",
              "      <td>Male</td>\n",
              "    </tr>\n",
              "  </tbody>\n",
              "</table>\n",
              "</div>"
            ],
            "text/plain": [
              "           A  B       C\n",
              "3 2013-01-02  3  Female\n",
              "2 2013-01-02  3    Male\n",
              "1 2013-01-02  3  Female\n",
              "0 2013-01-02  3    Male"
            ]
          },
          "metadata": {
            "tags": []
          },
          "execution_count": 16
        }
      ]
    },
    {
      "cell_type": "code",
      "metadata": {
        "colab": {
          "base_uri": "https://localhost:8080/",
          "height": 175
        },
        "id": "i5_QRMfa-l4h",
        "outputId": "1f14e93c-e624-43a7-e482-f237a18ad988"
      },
      "source": [
        "df1.sort_index(axis=0,ascending=True)"
      ],
      "execution_count": 17,
      "outputs": [
        {
          "output_type": "execute_result",
          "data": {
            "text/html": [
              "<div>\n",
              "<style scoped>\n",
              "    .dataframe tbody tr th:only-of-type {\n",
              "        vertical-align: middle;\n",
              "    }\n",
              "\n",
              "    .dataframe tbody tr th {\n",
              "        vertical-align: top;\n",
              "    }\n",
              "\n",
              "    .dataframe thead th {\n",
              "        text-align: right;\n",
              "    }\n",
              "</style>\n",
              "<table border=\"1\" class=\"dataframe\">\n",
              "  <thead>\n",
              "    <tr style=\"text-align: right;\">\n",
              "      <th></th>\n",
              "      <th>A</th>\n",
              "      <th>B</th>\n",
              "      <th>C</th>\n",
              "    </tr>\n",
              "  </thead>\n",
              "  <tbody>\n",
              "    <tr>\n",
              "      <th>0</th>\n",
              "      <td>2013-01-02</td>\n",
              "      <td>3</td>\n",
              "      <td>Male</td>\n",
              "    </tr>\n",
              "    <tr>\n",
              "      <th>1</th>\n",
              "      <td>2013-01-02</td>\n",
              "      <td>3</td>\n",
              "      <td>Female</td>\n",
              "    </tr>\n",
              "    <tr>\n",
              "      <th>2</th>\n",
              "      <td>2013-01-02</td>\n",
              "      <td>3</td>\n",
              "      <td>Male</td>\n",
              "    </tr>\n",
              "    <tr>\n",
              "      <th>3</th>\n",
              "      <td>2013-01-02</td>\n",
              "      <td>3</td>\n",
              "      <td>Female</td>\n",
              "    </tr>\n",
              "  </tbody>\n",
              "</table>\n",
              "</div>"
            ],
            "text/plain": [
              "           A  B       C\n",
              "0 2013-01-02  3    Male\n",
              "1 2013-01-02  3  Female\n",
              "2 2013-01-02  3    Male\n",
              "3 2013-01-02  3  Female"
            ]
          },
          "metadata": {
            "tags": []
          },
          "execution_count": 17
        }
      ]
    },
    {
      "cell_type": "markdown",
      "metadata": {
        "id": "iDyiSKul_C3M"
      },
      "source": [
        ""
      ]
    },
    {
      "cell_type": "code",
      "metadata": {
        "colab": {
          "base_uri": "https://localhost:8080/",
          "height": 175
        },
        "id": "l_bi9MfY_DRN",
        "outputId": "f64c5b96-eaf5-41f4-8779-764c586be5c8"
      },
      "source": [
        "df1.sort_index(axis=1,ascending=False)"
      ],
      "execution_count": 18,
      "outputs": [
        {
          "output_type": "execute_result",
          "data": {
            "text/html": [
              "<div>\n",
              "<style scoped>\n",
              "    .dataframe tbody tr th:only-of-type {\n",
              "        vertical-align: middle;\n",
              "    }\n",
              "\n",
              "    .dataframe tbody tr th {\n",
              "        vertical-align: top;\n",
              "    }\n",
              "\n",
              "    .dataframe thead th {\n",
              "        text-align: right;\n",
              "    }\n",
              "</style>\n",
              "<table border=\"1\" class=\"dataframe\">\n",
              "  <thead>\n",
              "    <tr style=\"text-align: right;\">\n",
              "      <th></th>\n",
              "      <th>C</th>\n",
              "      <th>B</th>\n",
              "      <th>A</th>\n",
              "    </tr>\n",
              "  </thead>\n",
              "  <tbody>\n",
              "    <tr>\n",
              "      <th>0</th>\n",
              "      <td>Male</td>\n",
              "      <td>3</td>\n",
              "      <td>2013-01-02</td>\n",
              "    </tr>\n",
              "    <tr>\n",
              "      <th>1</th>\n",
              "      <td>Female</td>\n",
              "      <td>3</td>\n",
              "      <td>2013-01-02</td>\n",
              "    </tr>\n",
              "    <tr>\n",
              "      <th>2</th>\n",
              "      <td>Male</td>\n",
              "      <td>3</td>\n",
              "      <td>2013-01-02</td>\n",
              "    </tr>\n",
              "    <tr>\n",
              "      <th>3</th>\n",
              "      <td>Female</td>\n",
              "      <td>3</td>\n",
              "      <td>2013-01-02</td>\n",
              "    </tr>\n",
              "  </tbody>\n",
              "</table>\n",
              "</div>"
            ],
            "text/plain": [
              "        C  B          A\n",
              "0    Male  3 2013-01-02\n",
              "1  Female  3 2013-01-02\n",
              "2    Male  3 2013-01-02\n",
              "3  Female  3 2013-01-02"
            ]
          },
          "metadata": {
            "tags": []
          },
          "execution_count": 18
        }
      ]
    },
    {
      "cell_type": "code",
      "metadata": {
        "colab": {
          "base_uri": "https://localhost:8080/"
        },
        "id": "9C33ZXhl8Xzc",
        "outputId": "a871d7aa-0f75-4750-e478-1427fa6daa2b"
      },
      "source": [
        "dates=pd.date_range('20200301',periods=100)\n",
        "dates"
      ],
      "execution_count": 19,
      "outputs": [
        {
          "output_type": "execute_result",
          "data": {
            "text/plain": [
              "DatetimeIndex(['2020-03-01', '2020-03-02', '2020-03-03', '2020-03-04',\n",
              "               '2020-03-05', '2020-03-06', '2020-03-07', '2020-03-08',\n",
              "               '2020-03-09', '2020-03-10', '2020-03-11', '2020-03-12',\n",
              "               '2020-03-13', '2020-03-14', '2020-03-15', '2020-03-16',\n",
              "               '2020-03-17', '2020-03-18', '2020-03-19', '2020-03-20',\n",
              "               '2020-03-21', '2020-03-22', '2020-03-23', '2020-03-24',\n",
              "               '2020-03-25', '2020-03-26', '2020-03-27', '2020-03-28',\n",
              "               '2020-03-29', '2020-03-30', '2020-03-31', '2020-04-01',\n",
              "               '2020-04-02', '2020-04-03', '2020-04-04', '2020-04-05',\n",
              "               '2020-04-06', '2020-04-07', '2020-04-08', '2020-04-09',\n",
              "               '2020-04-10', '2020-04-11', '2020-04-12', '2020-04-13',\n",
              "               '2020-04-14', '2020-04-15', '2020-04-16', '2020-04-17',\n",
              "               '2020-04-18', '2020-04-19', '2020-04-20', '2020-04-21',\n",
              "               '2020-04-22', '2020-04-23', '2020-04-24', '2020-04-25',\n",
              "               '2020-04-26', '2020-04-27', '2020-04-28', '2020-04-29',\n",
              "               '2020-04-30', '2020-05-01', '2020-05-02', '2020-05-03',\n",
              "               '2020-05-04', '2020-05-05', '2020-05-06', '2020-05-07',\n",
              "               '2020-05-08', '2020-05-09', '2020-05-10', '2020-05-11',\n",
              "               '2020-05-12', '2020-05-13', '2020-05-14', '2020-05-15',\n",
              "               '2020-05-16', '2020-05-17', '2020-05-18', '2020-05-19',\n",
              "               '2020-05-20', '2020-05-21', '2020-05-22', '2020-05-23',\n",
              "               '2020-05-24', '2020-05-25', '2020-05-26', '2020-05-27',\n",
              "               '2020-05-28', '2020-05-29', '2020-05-30', '2020-05-31',\n",
              "               '2020-06-01', '2020-06-02', '2020-06-03', '2020-06-04',\n",
              "               '2020-06-05', '2020-06-06', '2020-06-07', '2020-06-08'],\n",
              "              dtype='datetime64[ns]', freq='D')"
            ]
          },
          "metadata": {
            "tags": []
          },
          "execution_count": 19
        }
      ]
    },
    {
      "cell_type": "code",
      "metadata": {
        "colab": {
          "base_uri": "https://localhost:8080/",
          "height": 424
        },
        "id": "DZJXzk3E8hly",
        "outputId": "fd2b34e3-3767-4e0b-bd88-478d525899fd"
      },
      "source": [
        "df=pd.DataFrame(np.random.randn(100,5),index=dates,columns=list('ABCDE'))\n",
        "df"
      ],
      "execution_count": 20,
      "outputs": [
        {
          "output_type": "execute_result",
          "data": {
            "text/html": [
              "<div>\n",
              "<style scoped>\n",
              "    .dataframe tbody tr th:only-of-type {\n",
              "        vertical-align: middle;\n",
              "    }\n",
              "\n",
              "    .dataframe tbody tr th {\n",
              "        vertical-align: top;\n",
              "    }\n",
              "\n",
              "    .dataframe thead th {\n",
              "        text-align: right;\n",
              "    }\n",
              "</style>\n",
              "<table border=\"1\" class=\"dataframe\">\n",
              "  <thead>\n",
              "    <tr style=\"text-align: right;\">\n",
              "      <th></th>\n",
              "      <th>A</th>\n",
              "      <th>B</th>\n",
              "      <th>C</th>\n",
              "      <th>D</th>\n",
              "      <th>E</th>\n",
              "    </tr>\n",
              "  </thead>\n",
              "  <tbody>\n",
              "    <tr>\n",
              "      <th>2020-03-01</th>\n",
              "      <td>-0.424361</td>\n",
              "      <td>1.324853</td>\n",
              "      <td>0.177166</td>\n",
              "      <td>-2.420857</td>\n",
              "      <td>0.395508</td>\n",
              "    </tr>\n",
              "    <tr>\n",
              "      <th>2020-03-02</th>\n",
              "      <td>-0.891346</td>\n",
              "      <td>0.418756</td>\n",
              "      <td>-0.576962</td>\n",
              "      <td>0.789255</td>\n",
              "      <td>0.603036</td>\n",
              "    </tr>\n",
              "    <tr>\n",
              "      <th>2020-03-03</th>\n",
              "      <td>-0.565622</td>\n",
              "      <td>0.237257</td>\n",
              "      <td>-1.238142</td>\n",
              "      <td>0.201801</td>\n",
              "      <td>-0.621756</td>\n",
              "    </tr>\n",
              "    <tr>\n",
              "      <th>2020-03-04</th>\n",
              "      <td>-0.622072</td>\n",
              "      <td>-0.970570</td>\n",
              "      <td>0.893486</td>\n",
              "      <td>1.205685</td>\n",
              "      <td>-0.061184</td>\n",
              "    </tr>\n",
              "    <tr>\n",
              "      <th>2020-03-05</th>\n",
              "      <td>-0.011453</td>\n",
              "      <td>1.207245</td>\n",
              "      <td>-0.249846</td>\n",
              "      <td>-0.263671</td>\n",
              "      <td>-0.827198</td>\n",
              "    </tr>\n",
              "    <tr>\n",
              "      <th>...</th>\n",
              "      <td>...</td>\n",
              "      <td>...</td>\n",
              "      <td>...</td>\n",
              "      <td>...</td>\n",
              "      <td>...</td>\n",
              "    </tr>\n",
              "    <tr>\n",
              "      <th>2020-06-04</th>\n",
              "      <td>0.151475</td>\n",
              "      <td>0.445946</td>\n",
              "      <td>-0.696244</td>\n",
              "      <td>0.029660</td>\n",
              "      <td>0.603972</td>\n",
              "    </tr>\n",
              "    <tr>\n",
              "      <th>2020-06-05</th>\n",
              "      <td>0.524293</td>\n",
              "      <td>-0.735005</td>\n",
              "      <td>-0.632562</td>\n",
              "      <td>-1.199961</td>\n",
              "      <td>0.639078</td>\n",
              "    </tr>\n",
              "    <tr>\n",
              "      <th>2020-06-06</th>\n",
              "      <td>-1.091008</td>\n",
              "      <td>-0.853599</td>\n",
              "      <td>-0.660759</td>\n",
              "      <td>-0.423268</td>\n",
              "      <td>-0.249291</td>\n",
              "    </tr>\n",
              "    <tr>\n",
              "      <th>2020-06-07</th>\n",
              "      <td>0.983981</td>\n",
              "      <td>1.440673</td>\n",
              "      <td>0.066006</td>\n",
              "      <td>-2.699567</td>\n",
              "      <td>0.219518</td>\n",
              "    </tr>\n",
              "    <tr>\n",
              "      <th>2020-06-08</th>\n",
              "      <td>0.736044</td>\n",
              "      <td>-0.987208</td>\n",
              "      <td>0.965826</td>\n",
              "      <td>0.027003</td>\n",
              "      <td>0.239819</td>\n",
              "    </tr>\n",
              "  </tbody>\n",
              "</table>\n",
              "<p>100 rows × 5 columns</p>\n",
              "</div>"
            ],
            "text/plain": [
              "                   A         B         C         D         E\n",
              "2020-03-01 -0.424361  1.324853  0.177166 -2.420857  0.395508\n",
              "2020-03-02 -0.891346  0.418756 -0.576962  0.789255  0.603036\n",
              "2020-03-03 -0.565622  0.237257 -1.238142  0.201801 -0.621756\n",
              "2020-03-04 -0.622072 -0.970570  0.893486  1.205685 -0.061184\n",
              "2020-03-05 -0.011453  1.207245 -0.249846 -0.263671 -0.827198\n",
              "...              ...       ...       ...       ...       ...\n",
              "2020-06-04  0.151475  0.445946 -0.696244  0.029660  0.603972\n",
              "2020-06-05  0.524293 -0.735005 -0.632562 -1.199961  0.639078\n",
              "2020-06-06 -1.091008 -0.853599 -0.660759 -0.423268 -0.249291\n",
              "2020-06-07  0.983981  1.440673  0.066006 -2.699567  0.219518\n",
              "2020-06-08  0.736044 -0.987208  0.965826  0.027003  0.239819\n",
              "\n",
              "[100 rows x 5 columns]"
            ]
          },
          "metadata": {
            "tags": []
          },
          "execution_count": 20
        }
      ]
    },
    {
      "cell_type": "code",
      "metadata": {
        "colab": {
          "base_uri": "https://localhost:8080/"
        },
        "id": "x_X6X8rF9BPJ",
        "outputId": "828f5fdb-7631-498c-ae45-1a43e5975d35"
      },
      "source": [
        "df.index"
      ],
      "execution_count": 21,
      "outputs": [
        {
          "output_type": "execute_result",
          "data": {
            "text/plain": [
              "DatetimeIndex(['2020-03-01', '2020-03-02', '2020-03-03', '2020-03-04',\n",
              "               '2020-03-05', '2020-03-06', '2020-03-07', '2020-03-08',\n",
              "               '2020-03-09', '2020-03-10', '2020-03-11', '2020-03-12',\n",
              "               '2020-03-13', '2020-03-14', '2020-03-15', '2020-03-16',\n",
              "               '2020-03-17', '2020-03-18', '2020-03-19', '2020-03-20',\n",
              "               '2020-03-21', '2020-03-22', '2020-03-23', '2020-03-24',\n",
              "               '2020-03-25', '2020-03-26', '2020-03-27', '2020-03-28',\n",
              "               '2020-03-29', '2020-03-30', '2020-03-31', '2020-04-01',\n",
              "               '2020-04-02', '2020-04-03', '2020-04-04', '2020-04-05',\n",
              "               '2020-04-06', '2020-04-07', '2020-04-08', '2020-04-09',\n",
              "               '2020-04-10', '2020-04-11', '2020-04-12', '2020-04-13',\n",
              "               '2020-04-14', '2020-04-15', '2020-04-16', '2020-04-17',\n",
              "               '2020-04-18', '2020-04-19', '2020-04-20', '2020-04-21',\n",
              "               '2020-04-22', '2020-04-23', '2020-04-24', '2020-04-25',\n",
              "               '2020-04-26', '2020-04-27', '2020-04-28', '2020-04-29',\n",
              "               '2020-04-30', '2020-05-01', '2020-05-02', '2020-05-03',\n",
              "               '2020-05-04', '2020-05-05', '2020-05-06', '2020-05-07',\n",
              "               '2020-05-08', '2020-05-09', '2020-05-10', '2020-05-11',\n",
              "               '2020-05-12', '2020-05-13', '2020-05-14', '2020-05-15',\n",
              "               '2020-05-16', '2020-05-17', '2020-05-18', '2020-05-19',\n",
              "               '2020-05-20', '2020-05-21', '2020-05-22', '2020-05-23',\n",
              "               '2020-05-24', '2020-05-25', '2020-05-26', '2020-05-27',\n",
              "               '2020-05-28', '2020-05-29', '2020-05-30', '2020-05-31',\n",
              "               '2020-06-01', '2020-06-02', '2020-06-03', '2020-06-04',\n",
              "               '2020-06-05', '2020-06-06', '2020-06-07', '2020-06-08'],\n",
              "              dtype='datetime64[ns]', freq='D')"
            ]
          },
          "metadata": {
            "tags": []
          },
          "execution_count": 21
        }
      ]
    },
    {
      "cell_type": "code",
      "metadata": {
        "colab": {
          "base_uri": "https://localhost:8080/"
        },
        "id": "tIZgSwDO9sYq",
        "outputId": "b726ea8c-b72e-4b23-b707-7a5e8791a50b"
      },
      "source": [
        "df.columns"
      ],
      "execution_count": 22,
      "outputs": [
        {
          "output_type": "execute_result",
          "data": {
            "text/plain": [
              "Index(['A', 'B', 'C', 'D', 'E'], dtype='object')"
            ]
          },
          "metadata": {
            "tags": []
          },
          "execution_count": 22
        }
      ]
    },
    {
      "cell_type": "code",
      "metadata": {
        "colab": {
          "base_uri": "https://localhost:8080/",
          "height": 424
        },
        "id": "KcGDYcR09vLj",
        "outputId": "bc362100-2dd9-46d4-937f-248a7f94d64d"
      },
      "source": [
        "df.sort_index(axis=0,ascending=True)"
      ],
      "execution_count": 23,
      "outputs": [
        {
          "output_type": "execute_result",
          "data": {
            "text/html": [
              "<div>\n",
              "<style scoped>\n",
              "    .dataframe tbody tr th:only-of-type {\n",
              "        vertical-align: middle;\n",
              "    }\n",
              "\n",
              "    .dataframe tbody tr th {\n",
              "        vertical-align: top;\n",
              "    }\n",
              "\n",
              "    .dataframe thead th {\n",
              "        text-align: right;\n",
              "    }\n",
              "</style>\n",
              "<table border=\"1\" class=\"dataframe\">\n",
              "  <thead>\n",
              "    <tr style=\"text-align: right;\">\n",
              "      <th></th>\n",
              "      <th>A</th>\n",
              "      <th>B</th>\n",
              "      <th>C</th>\n",
              "      <th>D</th>\n",
              "      <th>E</th>\n",
              "    </tr>\n",
              "  </thead>\n",
              "  <tbody>\n",
              "    <tr>\n",
              "      <th>2020-03-01</th>\n",
              "      <td>-0.424361</td>\n",
              "      <td>1.324853</td>\n",
              "      <td>0.177166</td>\n",
              "      <td>-2.420857</td>\n",
              "      <td>0.395508</td>\n",
              "    </tr>\n",
              "    <tr>\n",
              "      <th>2020-03-02</th>\n",
              "      <td>-0.891346</td>\n",
              "      <td>0.418756</td>\n",
              "      <td>-0.576962</td>\n",
              "      <td>0.789255</td>\n",
              "      <td>0.603036</td>\n",
              "    </tr>\n",
              "    <tr>\n",
              "      <th>2020-03-03</th>\n",
              "      <td>-0.565622</td>\n",
              "      <td>0.237257</td>\n",
              "      <td>-1.238142</td>\n",
              "      <td>0.201801</td>\n",
              "      <td>-0.621756</td>\n",
              "    </tr>\n",
              "    <tr>\n",
              "      <th>2020-03-04</th>\n",
              "      <td>-0.622072</td>\n",
              "      <td>-0.970570</td>\n",
              "      <td>0.893486</td>\n",
              "      <td>1.205685</td>\n",
              "      <td>-0.061184</td>\n",
              "    </tr>\n",
              "    <tr>\n",
              "      <th>2020-03-05</th>\n",
              "      <td>-0.011453</td>\n",
              "      <td>1.207245</td>\n",
              "      <td>-0.249846</td>\n",
              "      <td>-0.263671</td>\n",
              "      <td>-0.827198</td>\n",
              "    </tr>\n",
              "    <tr>\n",
              "      <th>...</th>\n",
              "      <td>...</td>\n",
              "      <td>...</td>\n",
              "      <td>...</td>\n",
              "      <td>...</td>\n",
              "      <td>...</td>\n",
              "    </tr>\n",
              "    <tr>\n",
              "      <th>2020-06-04</th>\n",
              "      <td>0.151475</td>\n",
              "      <td>0.445946</td>\n",
              "      <td>-0.696244</td>\n",
              "      <td>0.029660</td>\n",
              "      <td>0.603972</td>\n",
              "    </tr>\n",
              "    <tr>\n",
              "      <th>2020-06-05</th>\n",
              "      <td>0.524293</td>\n",
              "      <td>-0.735005</td>\n",
              "      <td>-0.632562</td>\n",
              "      <td>-1.199961</td>\n",
              "      <td>0.639078</td>\n",
              "    </tr>\n",
              "    <tr>\n",
              "      <th>2020-06-06</th>\n",
              "      <td>-1.091008</td>\n",
              "      <td>-0.853599</td>\n",
              "      <td>-0.660759</td>\n",
              "      <td>-0.423268</td>\n",
              "      <td>-0.249291</td>\n",
              "    </tr>\n",
              "    <tr>\n",
              "      <th>2020-06-07</th>\n",
              "      <td>0.983981</td>\n",
              "      <td>1.440673</td>\n",
              "      <td>0.066006</td>\n",
              "      <td>-2.699567</td>\n",
              "      <td>0.219518</td>\n",
              "    </tr>\n",
              "    <tr>\n",
              "      <th>2020-06-08</th>\n",
              "      <td>0.736044</td>\n",
              "      <td>-0.987208</td>\n",
              "      <td>0.965826</td>\n",
              "      <td>0.027003</td>\n",
              "      <td>0.239819</td>\n",
              "    </tr>\n",
              "  </tbody>\n",
              "</table>\n",
              "<p>100 rows × 5 columns</p>\n",
              "</div>"
            ],
            "text/plain": [
              "                   A         B         C         D         E\n",
              "2020-03-01 -0.424361  1.324853  0.177166 -2.420857  0.395508\n",
              "2020-03-02 -0.891346  0.418756 -0.576962  0.789255  0.603036\n",
              "2020-03-03 -0.565622  0.237257 -1.238142  0.201801 -0.621756\n",
              "2020-03-04 -0.622072 -0.970570  0.893486  1.205685 -0.061184\n",
              "2020-03-05 -0.011453  1.207245 -0.249846 -0.263671 -0.827198\n",
              "...              ...       ...       ...       ...       ...\n",
              "2020-06-04  0.151475  0.445946 -0.696244  0.029660  0.603972\n",
              "2020-06-05  0.524293 -0.735005 -0.632562 -1.199961  0.639078\n",
              "2020-06-06 -1.091008 -0.853599 -0.660759 -0.423268 -0.249291\n",
              "2020-06-07  0.983981  1.440673  0.066006 -2.699567  0.219518\n",
              "2020-06-08  0.736044 -0.987208  0.965826  0.027003  0.239819\n",
              "\n",
              "[100 rows x 5 columns]"
            ]
          },
          "metadata": {
            "tags": []
          },
          "execution_count": 23
        }
      ]
    },
    {
      "cell_type": "code",
      "metadata": {
        "colab": {
          "base_uri": "https://localhost:8080/",
          "height": 144
        },
        "id": "7MHTEI7293Ep",
        "outputId": "730139b3-9d04-42a6-c0e6-ad71c2647379"
      },
      "source": [
        "df[0:3]"
      ],
      "execution_count": 24,
      "outputs": [
        {
          "output_type": "execute_result",
          "data": {
            "text/html": [
              "<div>\n",
              "<style scoped>\n",
              "    .dataframe tbody tr th:only-of-type {\n",
              "        vertical-align: middle;\n",
              "    }\n",
              "\n",
              "    .dataframe tbody tr th {\n",
              "        vertical-align: top;\n",
              "    }\n",
              "\n",
              "    .dataframe thead th {\n",
              "        text-align: right;\n",
              "    }\n",
              "</style>\n",
              "<table border=\"1\" class=\"dataframe\">\n",
              "  <thead>\n",
              "    <tr style=\"text-align: right;\">\n",
              "      <th></th>\n",
              "      <th>A</th>\n",
              "      <th>B</th>\n",
              "      <th>C</th>\n",
              "      <th>D</th>\n",
              "      <th>E</th>\n",
              "    </tr>\n",
              "  </thead>\n",
              "  <tbody>\n",
              "    <tr>\n",
              "      <th>2020-03-01</th>\n",
              "      <td>-0.424361</td>\n",
              "      <td>1.324853</td>\n",
              "      <td>0.177166</td>\n",
              "      <td>-2.420857</td>\n",
              "      <td>0.395508</td>\n",
              "    </tr>\n",
              "    <tr>\n",
              "      <th>2020-03-02</th>\n",
              "      <td>-0.891346</td>\n",
              "      <td>0.418756</td>\n",
              "      <td>-0.576962</td>\n",
              "      <td>0.789255</td>\n",
              "      <td>0.603036</td>\n",
              "    </tr>\n",
              "    <tr>\n",
              "      <th>2020-03-03</th>\n",
              "      <td>-0.565622</td>\n",
              "      <td>0.237257</td>\n",
              "      <td>-1.238142</td>\n",
              "      <td>0.201801</td>\n",
              "      <td>-0.621756</td>\n",
              "    </tr>\n",
              "  </tbody>\n",
              "</table>\n",
              "</div>"
            ],
            "text/plain": [
              "                   A         B         C         D         E\n",
              "2020-03-01 -0.424361  1.324853  0.177166 -2.420857  0.395508\n",
              "2020-03-02 -0.891346  0.418756 -0.576962  0.789255  0.603036\n",
              "2020-03-03 -0.565622  0.237257 -1.238142  0.201801 -0.621756"
            ]
          },
          "metadata": {
            "tags": []
          },
          "execution_count": 24
        }
      ]
    },
    {
      "cell_type": "code",
      "metadata": {
        "colab": {
          "base_uri": "https://localhost:8080/"
        },
        "id": "PoHYe9ui_O2q",
        "outputId": "ddf8f7ee-afda-4b50-d1a8-47c74122971f"
      },
      "source": [
        "df.iloc[0]"
      ],
      "execution_count": 25,
      "outputs": [
        {
          "output_type": "execute_result",
          "data": {
            "text/plain": [
              "A   -0.424361\n",
              "B    1.324853\n",
              "C    0.177166\n",
              "D   -2.420857\n",
              "E    0.395508\n",
              "Name: 2020-03-01 00:00:00, dtype: float64"
            ]
          },
          "metadata": {
            "tags": []
          },
          "execution_count": 25
        }
      ]
    },
    {
      "cell_type": "code",
      "metadata": {
        "colab": {
          "base_uri": "https://localhost:8080/",
          "height": 144
        },
        "id": "Aaor6rRG_gCT",
        "outputId": "7846c06e-cc4a-4bab-8e7f-179c74ddc267"
      },
      "source": [
        "df.iloc[0:3]"
      ],
      "execution_count": 26,
      "outputs": [
        {
          "output_type": "execute_result",
          "data": {
            "text/html": [
              "<div>\n",
              "<style scoped>\n",
              "    .dataframe tbody tr th:only-of-type {\n",
              "        vertical-align: middle;\n",
              "    }\n",
              "\n",
              "    .dataframe tbody tr th {\n",
              "        vertical-align: top;\n",
              "    }\n",
              "\n",
              "    .dataframe thead th {\n",
              "        text-align: right;\n",
              "    }\n",
              "</style>\n",
              "<table border=\"1\" class=\"dataframe\">\n",
              "  <thead>\n",
              "    <tr style=\"text-align: right;\">\n",
              "      <th></th>\n",
              "      <th>A</th>\n",
              "      <th>B</th>\n",
              "      <th>C</th>\n",
              "      <th>D</th>\n",
              "      <th>E</th>\n",
              "    </tr>\n",
              "  </thead>\n",
              "  <tbody>\n",
              "    <tr>\n",
              "      <th>2020-03-01</th>\n",
              "      <td>-0.424361</td>\n",
              "      <td>1.324853</td>\n",
              "      <td>0.177166</td>\n",
              "      <td>-2.420857</td>\n",
              "      <td>0.395508</td>\n",
              "    </tr>\n",
              "    <tr>\n",
              "      <th>2020-03-02</th>\n",
              "      <td>-0.891346</td>\n",
              "      <td>0.418756</td>\n",
              "      <td>-0.576962</td>\n",
              "      <td>0.789255</td>\n",
              "      <td>0.603036</td>\n",
              "    </tr>\n",
              "    <tr>\n",
              "      <th>2020-03-03</th>\n",
              "      <td>-0.565622</td>\n",
              "      <td>0.237257</td>\n",
              "      <td>-1.238142</td>\n",
              "      <td>0.201801</td>\n",
              "      <td>-0.621756</td>\n",
              "    </tr>\n",
              "  </tbody>\n",
              "</table>\n",
              "</div>"
            ],
            "text/plain": [
              "                   A         B         C         D         E\n",
              "2020-03-01 -0.424361  1.324853  0.177166 -2.420857  0.395508\n",
              "2020-03-02 -0.891346  0.418756 -0.576962  0.789255  0.603036\n",
              "2020-03-03 -0.565622  0.237257 -1.238142  0.201801 -0.621756"
            ]
          },
          "metadata": {
            "tags": []
          },
          "execution_count": 26
        }
      ]
    },
    {
      "cell_type": "code",
      "metadata": {
        "id": "tzQ-HzCo_p8J"
      },
      "source": [
        "# df[0,:2]"
      ],
      "execution_count": 27,
      "outputs": []
    },
    {
      "cell_type": "code",
      "metadata": {
        "id": "QHa6QkVV_xo6",
        "colab": {
          "base_uri": "https://localhost:8080/",
          "height": 363
        },
        "outputId": "2f7ccbba-4883-40e9-fce6-3a263b5d3f30"
      },
      "source": [
        "df.iloc[0:10,:2]"
      ],
      "execution_count": 28,
      "outputs": [
        {
          "output_type": "execute_result",
          "data": {
            "text/html": [
              "<div>\n",
              "<style scoped>\n",
              "    .dataframe tbody tr th:only-of-type {\n",
              "        vertical-align: middle;\n",
              "    }\n",
              "\n",
              "    .dataframe tbody tr th {\n",
              "        vertical-align: top;\n",
              "    }\n",
              "\n",
              "    .dataframe thead th {\n",
              "        text-align: right;\n",
              "    }\n",
              "</style>\n",
              "<table border=\"1\" class=\"dataframe\">\n",
              "  <thead>\n",
              "    <tr style=\"text-align: right;\">\n",
              "      <th></th>\n",
              "      <th>A</th>\n",
              "      <th>B</th>\n",
              "    </tr>\n",
              "  </thead>\n",
              "  <tbody>\n",
              "    <tr>\n",
              "      <th>2020-03-01</th>\n",
              "      <td>-0.424361</td>\n",
              "      <td>1.324853</td>\n",
              "    </tr>\n",
              "    <tr>\n",
              "      <th>2020-03-02</th>\n",
              "      <td>-0.891346</td>\n",
              "      <td>0.418756</td>\n",
              "    </tr>\n",
              "    <tr>\n",
              "      <th>2020-03-03</th>\n",
              "      <td>-0.565622</td>\n",
              "      <td>0.237257</td>\n",
              "    </tr>\n",
              "    <tr>\n",
              "      <th>2020-03-04</th>\n",
              "      <td>-0.622072</td>\n",
              "      <td>-0.970570</td>\n",
              "    </tr>\n",
              "    <tr>\n",
              "      <th>2020-03-05</th>\n",
              "      <td>-0.011453</td>\n",
              "      <td>1.207245</td>\n",
              "    </tr>\n",
              "    <tr>\n",
              "      <th>2020-03-06</th>\n",
              "      <td>-0.501430</td>\n",
              "      <td>1.723194</td>\n",
              "    </tr>\n",
              "    <tr>\n",
              "      <th>2020-03-07</th>\n",
              "      <td>-0.900611</td>\n",
              "      <td>0.785145</td>\n",
              "    </tr>\n",
              "    <tr>\n",
              "      <th>2020-03-08</th>\n",
              "      <td>-2.039871</td>\n",
              "      <td>2.410184</td>\n",
              "    </tr>\n",
              "    <tr>\n",
              "      <th>2020-03-09</th>\n",
              "      <td>-1.141107</td>\n",
              "      <td>-0.461455</td>\n",
              "    </tr>\n",
              "    <tr>\n",
              "      <th>2020-03-10</th>\n",
              "      <td>0.804887</td>\n",
              "      <td>-0.828880</td>\n",
              "    </tr>\n",
              "  </tbody>\n",
              "</table>\n",
              "</div>"
            ],
            "text/plain": [
              "                   A         B\n",
              "2020-03-01 -0.424361  1.324853\n",
              "2020-03-02 -0.891346  0.418756\n",
              "2020-03-03 -0.565622  0.237257\n",
              "2020-03-04 -0.622072 -0.970570\n",
              "2020-03-05 -0.011453  1.207245\n",
              "2020-03-06 -0.501430  1.723194\n",
              "2020-03-07 -0.900611  0.785145\n",
              "2020-03-08 -2.039871  2.410184\n",
              "2020-03-09 -1.141107 -0.461455\n",
              "2020-03-10  0.804887 -0.828880"
            ]
          },
          "metadata": {
            "tags": []
          },
          "execution_count": 28
        }
      ]
    },
    {
      "cell_type": "code",
      "metadata": {
        "colab": {
          "base_uri": "https://localhost:8080/"
        },
        "id": "qTaot2zDCcKd",
        "outputId": "8334d3f8-b322-41a8-b494-3459c91ca431"
      },
      "source": [
        "df['A']"
      ],
      "execution_count": 29,
      "outputs": [
        {
          "output_type": "execute_result",
          "data": {
            "text/plain": [
              "2020-03-01   -0.424361\n",
              "2020-03-02   -0.891346\n",
              "2020-03-03   -0.565622\n",
              "2020-03-04   -0.622072\n",
              "2020-03-05   -0.011453\n",
              "                ...   \n",
              "2020-06-04    0.151475\n",
              "2020-06-05    0.524293\n",
              "2020-06-06   -1.091008\n",
              "2020-06-07    0.983981\n",
              "2020-06-08    0.736044\n",
              "Freq: D, Name: A, Length: 100, dtype: float64"
            ]
          },
          "metadata": {
            "tags": []
          },
          "execution_count": 29
        }
      ]
    },
    {
      "cell_type": "code",
      "metadata": {
        "colab": {
          "base_uri": "https://localhost:8080/",
          "height": 424
        },
        "id": "1OXN1nWyC2jV",
        "outputId": "97756759-0f44-4b9a-e38d-2aed5d0e5aa8"
      },
      "source": [
        "df[['A','B']]"
      ],
      "execution_count": 30,
      "outputs": [
        {
          "output_type": "execute_result",
          "data": {
            "text/html": [
              "<div>\n",
              "<style scoped>\n",
              "    .dataframe tbody tr th:only-of-type {\n",
              "        vertical-align: middle;\n",
              "    }\n",
              "\n",
              "    .dataframe tbody tr th {\n",
              "        vertical-align: top;\n",
              "    }\n",
              "\n",
              "    .dataframe thead th {\n",
              "        text-align: right;\n",
              "    }\n",
              "</style>\n",
              "<table border=\"1\" class=\"dataframe\">\n",
              "  <thead>\n",
              "    <tr style=\"text-align: right;\">\n",
              "      <th></th>\n",
              "      <th>A</th>\n",
              "      <th>B</th>\n",
              "    </tr>\n",
              "  </thead>\n",
              "  <tbody>\n",
              "    <tr>\n",
              "      <th>2020-03-01</th>\n",
              "      <td>-0.424361</td>\n",
              "      <td>1.324853</td>\n",
              "    </tr>\n",
              "    <tr>\n",
              "      <th>2020-03-02</th>\n",
              "      <td>-0.891346</td>\n",
              "      <td>0.418756</td>\n",
              "    </tr>\n",
              "    <tr>\n",
              "      <th>2020-03-03</th>\n",
              "      <td>-0.565622</td>\n",
              "      <td>0.237257</td>\n",
              "    </tr>\n",
              "    <tr>\n",
              "      <th>2020-03-04</th>\n",
              "      <td>-0.622072</td>\n",
              "      <td>-0.970570</td>\n",
              "    </tr>\n",
              "    <tr>\n",
              "      <th>2020-03-05</th>\n",
              "      <td>-0.011453</td>\n",
              "      <td>1.207245</td>\n",
              "    </tr>\n",
              "    <tr>\n",
              "      <th>...</th>\n",
              "      <td>...</td>\n",
              "      <td>...</td>\n",
              "    </tr>\n",
              "    <tr>\n",
              "      <th>2020-06-04</th>\n",
              "      <td>0.151475</td>\n",
              "      <td>0.445946</td>\n",
              "    </tr>\n",
              "    <tr>\n",
              "      <th>2020-06-05</th>\n",
              "      <td>0.524293</td>\n",
              "      <td>-0.735005</td>\n",
              "    </tr>\n",
              "    <tr>\n",
              "      <th>2020-06-06</th>\n",
              "      <td>-1.091008</td>\n",
              "      <td>-0.853599</td>\n",
              "    </tr>\n",
              "    <tr>\n",
              "      <th>2020-06-07</th>\n",
              "      <td>0.983981</td>\n",
              "      <td>1.440673</td>\n",
              "    </tr>\n",
              "    <tr>\n",
              "      <th>2020-06-08</th>\n",
              "      <td>0.736044</td>\n",
              "      <td>-0.987208</td>\n",
              "    </tr>\n",
              "  </tbody>\n",
              "</table>\n",
              "<p>100 rows × 2 columns</p>\n",
              "</div>"
            ],
            "text/plain": [
              "                   A         B\n",
              "2020-03-01 -0.424361  1.324853\n",
              "2020-03-02 -0.891346  0.418756\n",
              "2020-03-03 -0.565622  0.237257\n",
              "2020-03-04 -0.622072 -0.970570\n",
              "2020-03-05 -0.011453  1.207245\n",
              "...              ...       ...\n",
              "2020-06-04  0.151475  0.445946\n",
              "2020-06-05  0.524293 -0.735005\n",
              "2020-06-06 -1.091008 -0.853599\n",
              "2020-06-07  0.983981  1.440673\n",
              "2020-06-08  0.736044 -0.987208\n",
              "\n",
              "[100 rows x 2 columns]"
            ]
          },
          "metadata": {
            "tags": []
          },
          "execution_count": 30
        }
      ]
    },
    {
      "cell_type": "code",
      "metadata": {
        "colab": {
          "base_uri": "https://localhost:8080/",
          "height": 206
        },
        "id": "3QH02uOvCqxZ",
        "outputId": "9ec153ce-cd33-480f-c6fa-db1efa28ac7d"
      },
      "source": [
        "\n",
        "df[['A','B']][0:5]"
      ],
      "execution_count": 31,
      "outputs": [
        {
          "output_type": "execute_result",
          "data": {
            "text/html": [
              "<div>\n",
              "<style scoped>\n",
              "    .dataframe tbody tr th:only-of-type {\n",
              "        vertical-align: middle;\n",
              "    }\n",
              "\n",
              "    .dataframe tbody tr th {\n",
              "        vertical-align: top;\n",
              "    }\n",
              "\n",
              "    .dataframe thead th {\n",
              "        text-align: right;\n",
              "    }\n",
              "</style>\n",
              "<table border=\"1\" class=\"dataframe\">\n",
              "  <thead>\n",
              "    <tr style=\"text-align: right;\">\n",
              "      <th></th>\n",
              "      <th>A</th>\n",
              "      <th>B</th>\n",
              "    </tr>\n",
              "  </thead>\n",
              "  <tbody>\n",
              "    <tr>\n",
              "      <th>2020-03-01</th>\n",
              "      <td>-0.424361</td>\n",
              "      <td>1.324853</td>\n",
              "    </tr>\n",
              "    <tr>\n",
              "      <th>2020-03-02</th>\n",
              "      <td>-0.891346</td>\n",
              "      <td>0.418756</td>\n",
              "    </tr>\n",
              "    <tr>\n",
              "      <th>2020-03-03</th>\n",
              "      <td>-0.565622</td>\n",
              "      <td>0.237257</td>\n",
              "    </tr>\n",
              "    <tr>\n",
              "      <th>2020-03-04</th>\n",
              "      <td>-0.622072</td>\n",
              "      <td>-0.970570</td>\n",
              "    </tr>\n",
              "    <tr>\n",
              "      <th>2020-03-05</th>\n",
              "      <td>-0.011453</td>\n",
              "      <td>1.207245</td>\n",
              "    </tr>\n",
              "  </tbody>\n",
              "</table>\n",
              "</div>"
            ],
            "text/plain": [
              "                   A         B\n",
              "2020-03-01 -0.424361  1.324853\n",
              "2020-03-02 -0.891346  0.418756\n",
              "2020-03-03 -0.565622  0.237257\n",
              "2020-03-04 -0.622072 -0.970570\n",
              "2020-03-05 -0.011453  1.207245"
            ]
          },
          "metadata": {
            "tags": []
          },
          "execution_count": 31
        }
      ]
    },
    {
      "cell_type": "code",
      "metadata": {
        "colab": {
          "base_uri": "https://localhost:8080/",
          "height": 426
        },
        "id": "krxn8O1TDRtj",
        "outputId": "0490387d-3ab2-4003-98ce-f05804ec79a6"
      },
      "source": [
        "df[df.A>1.1]"
      ],
      "execution_count": 32,
      "outputs": [
        {
          "output_type": "execute_result",
          "data": {
            "text/html": [
              "<div>\n",
              "<style scoped>\n",
              "    .dataframe tbody tr th:only-of-type {\n",
              "        vertical-align: middle;\n",
              "    }\n",
              "\n",
              "    .dataframe tbody tr th {\n",
              "        vertical-align: top;\n",
              "    }\n",
              "\n",
              "    .dataframe thead th {\n",
              "        text-align: right;\n",
              "    }\n",
              "</style>\n",
              "<table border=\"1\" class=\"dataframe\">\n",
              "  <thead>\n",
              "    <tr style=\"text-align: right;\">\n",
              "      <th></th>\n",
              "      <th>A</th>\n",
              "      <th>B</th>\n",
              "      <th>C</th>\n",
              "      <th>D</th>\n",
              "      <th>E</th>\n",
              "    </tr>\n",
              "  </thead>\n",
              "  <tbody>\n",
              "    <tr>\n",
              "      <th>2020-03-11</th>\n",
              "      <td>1.226958</td>\n",
              "      <td>2.768342</td>\n",
              "      <td>1.602426</td>\n",
              "      <td>2.038239</td>\n",
              "      <td>-1.785696</td>\n",
              "    </tr>\n",
              "    <tr>\n",
              "      <th>2020-03-31</th>\n",
              "      <td>1.300608</td>\n",
              "      <td>-1.884347</td>\n",
              "      <td>0.384452</td>\n",
              "      <td>-0.687108</td>\n",
              "      <td>-0.536894</td>\n",
              "    </tr>\n",
              "    <tr>\n",
              "      <th>2020-04-25</th>\n",
              "      <td>1.513270</td>\n",
              "      <td>-0.689307</td>\n",
              "      <td>0.410927</td>\n",
              "      <td>0.025507</td>\n",
              "      <td>-0.149151</td>\n",
              "    </tr>\n",
              "    <tr>\n",
              "      <th>2020-04-30</th>\n",
              "      <td>2.421214</td>\n",
              "      <td>1.584555</td>\n",
              "      <td>0.213267</td>\n",
              "      <td>-1.152837</td>\n",
              "      <td>0.752907</td>\n",
              "    </tr>\n",
              "    <tr>\n",
              "      <th>2020-05-01</th>\n",
              "      <td>2.347788</td>\n",
              "      <td>0.904406</td>\n",
              "      <td>-1.302815</td>\n",
              "      <td>0.174765</td>\n",
              "      <td>1.304519</td>\n",
              "    </tr>\n",
              "    <tr>\n",
              "      <th>2020-05-07</th>\n",
              "      <td>1.333469</td>\n",
              "      <td>0.748865</td>\n",
              "      <td>0.634736</td>\n",
              "      <td>-3.448722</td>\n",
              "      <td>-0.234078</td>\n",
              "    </tr>\n",
              "    <tr>\n",
              "      <th>2020-05-15</th>\n",
              "      <td>1.469526</td>\n",
              "      <td>-1.887684</td>\n",
              "      <td>1.610219</td>\n",
              "      <td>0.459457</td>\n",
              "      <td>-0.055961</td>\n",
              "    </tr>\n",
              "    <tr>\n",
              "      <th>2020-05-16</th>\n",
              "      <td>1.373086</td>\n",
              "      <td>-0.017398</td>\n",
              "      <td>-0.789335</td>\n",
              "      <td>0.037940</td>\n",
              "      <td>-1.237515</td>\n",
              "    </tr>\n",
              "    <tr>\n",
              "      <th>2020-05-21</th>\n",
              "      <td>2.721519</td>\n",
              "      <td>0.290362</td>\n",
              "      <td>0.298594</td>\n",
              "      <td>-0.537848</td>\n",
              "      <td>-0.517663</td>\n",
              "    </tr>\n",
              "    <tr>\n",
              "      <th>2020-05-22</th>\n",
              "      <td>1.908520</td>\n",
              "      <td>0.631277</td>\n",
              "      <td>1.485751</td>\n",
              "      <td>-0.823750</td>\n",
              "      <td>0.161971</td>\n",
              "    </tr>\n",
              "    <tr>\n",
              "      <th>2020-06-01</th>\n",
              "      <td>1.180628</td>\n",
              "      <td>1.401385</td>\n",
              "      <td>-0.254090</td>\n",
              "      <td>0.358312</td>\n",
              "      <td>-0.143079</td>\n",
              "    </tr>\n",
              "    <tr>\n",
              "      <th>2020-06-02</th>\n",
              "      <td>1.285464</td>\n",
              "      <td>2.452896</td>\n",
              "      <td>-0.360308</td>\n",
              "      <td>1.574432</td>\n",
              "      <td>1.484435</td>\n",
              "    </tr>\n",
              "  </tbody>\n",
              "</table>\n",
              "</div>"
            ],
            "text/plain": [
              "                   A         B         C         D         E\n",
              "2020-03-11  1.226958  2.768342  1.602426  2.038239 -1.785696\n",
              "2020-03-31  1.300608 -1.884347  0.384452 -0.687108 -0.536894\n",
              "2020-04-25  1.513270 -0.689307  0.410927  0.025507 -0.149151\n",
              "2020-04-30  2.421214  1.584555  0.213267 -1.152837  0.752907\n",
              "2020-05-01  2.347788  0.904406 -1.302815  0.174765  1.304519\n",
              "2020-05-07  1.333469  0.748865  0.634736 -3.448722 -0.234078\n",
              "2020-05-15  1.469526 -1.887684  1.610219  0.459457 -0.055961\n",
              "2020-05-16  1.373086 -0.017398 -0.789335  0.037940 -1.237515\n",
              "2020-05-21  2.721519  0.290362  0.298594 -0.537848 -0.517663\n",
              "2020-05-22  1.908520  0.631277  1.485751 -0.823750  0.161971\n",
              "2020-06-01  1.180628  1.401385 -0.254090  0.358312 -0.143079\n",
              "2020-06-02  1.285464  2.452896 -0.360308  1.574432  1.484435"
            ]
          },
          "metadata": {
            "tags": []
          },
          "execution_count": 32
        }
      ]
    },
    {
      "cell_type": "code",
      "metadata": {
        "id": "HxTQ6lKFDW9s"
      },
      "source": [
        ""
      ],
      "execution_count": 32,
      "outputs": []
    },
    {
      "cell_type": "code",
      "metadata": {
        "colab": {
          "base_uri": "https://localhost:8080/",
          "height": 424
        },
        "id": "ZezVH9vbDnBk",
        "outputId": "264bb290-5bd5-4141-ebff-2e902586dca6"
      },
      "source": [
        "df.drop('A',axis=1,inplace=False)"
      ],
      "execution_count": 33,
      "outputs": [
        {
          "output_type": "execute_result",
          "data": {
            "text/html": [
              "<div>\n",
              "<style scoped>\n",
              "    .dataframe tbody tr th:only-of-type {\n",
              "        vertical-align: middle;\n",
              "    }\n",
              "\n",
              "    .dataframe tbody tr th {\n",
              "        vertical-align: top;\n",
              "    }\n",
              "\n",
              "    .dataframe thead th {\n",
              "        text-align: right;\n",
              "    }\n",
              "</style>\n",
              "<table border=\"1\" class=\"dataframe\">\n",
              "  <thead>\n",
              "    <tr style=\"text-align: right;\">\n",
              "      <th></th>\n",
              "      <th>B</th>\n",
              "      <th>C</th>\n",
              "      <th>D</th>\n",
              "      <th>E</th>\n",
              "    </tr>\n",
              "  </thead>\n",
              "  <tbody>\n",
              "    <tr>\n",
              "      <th>2020-03-01</th>\n",
              "      <td>1.324853</td>\n",
              "      <td>0.177166</td>\n",
              "      <td>-2.420857</td>\n",
              "      <td>0.395508</td>\n",
              "    </tr>\n",
              "    <tr>\n",
              "      <th>2020-03-02</th>\n",
              "      <td>0.418756</td>\n",
              "      <td>-0.576962</td>\n",
              "      <td>0.789255</td>\n",
              "      <td>0.603036</td>\n",
              "    </tr>\n",
              "    <tr>\n",
              "      <th>2020-03-03</th>\n",
              "      <td>0.237257</td>\n",
              "      <td>-1.238142</td>\n",
              "      <td>0.201801</td>\n",
              "      <td>-0.621756</td>\n",
              "    </tr>\n",
              "    <tr>\n",
              "      <th>2020-03-04</th>\n",
              "      <td>-0.970570</td>\n",
              "      <td>0.893486</td>\n",
              "      <td>1.205685</td>\n",
              "      <td>-0.061184</td>\n",
              "    </tr>\n",
              "    <tr>\n",
              "      <th>2020-03-05</th>\n",
              "      <td>1.207245</td>\n",
              "      <td>-0.249846</td>\n",
              "      <td>-0.263671</td>\n",
              "      <td>-0.827198</td>\n",
              "    </tr>\n",
              "    <tr>\n",
              "      <th>...</th>\n",
              "      <td>...</td>\n",
              "      <td>...</td>\n",
              "      <td>...</td>\n",
              "      <td>...</td>\n",
              "    </tr>\n",
              "    <tr>\n",
              "      <th>2020-06-04</th>\n",
              "      <td>0.445946</td>\n",
              "      <td>-0.696244</td>\n",
              "      <td>0.029660</td>\n",
              "      <td>0.603972</td>\n",
              "    </tr>\n",
              "    <tr>\n",
              "      <th>2020-06-05</th>\n",
              "      <td>-0.735005</td>\n",
              "      <td>-0.632562</td>\n",
              "      <td>-1.199961</td>\n",
              "      <td>0.639078</td>\n",
              "    </tr>\n",
              "    <tr>\n",
              "      <th>2020-06-06</th>\n",
              "      <td>-0.853599</td>\n",
              "      <td>-0.660759</td>\n",
              "      <td>-0.423268</td>\n",
              "      <td>-0.249291</td>\n",
              "    </tr>\n",
              "    <tr>\n",
              "      <th>2020-06-07</th>\n",
              "      <td>1.440673</td>\n",
              "      <td>0.066006</td>\n",
              "      <td>-2.699567</td>\n",
              "      <td>0.219518</td>\n",
              "    </tr>\n",
              "    <tr>\n",
              "      <th>2020-06-08</th>\n",
              "      <td>-0.987208</td>\n",
              "      <td>0.965826</td>\n",
              "      <td>0.027003</td>\n",
              "      <td>0.239819</td>\n",
              "    </tr>\n",
              "  </tbody>\n",
              "</table>\n",
              "<p>100 rows × 4 columns</p>\n",
              "</div>"
            ],
            "text/plain": [
              "                   B         C         D         E\n",
              "2020-03-01  1.324853  0.177166 -2.420857  0.395508\n",
              "2020-03-02  0.418756 -0.576962  0.789255  0.603036\n",
              "2020-03-03  0.237257 -1.238142  0.201801 -0.621756\n",
              "2020-03-04 -0.970570  0.893486  1.205685 -0.061184\n",
              "2020-03-05  1.207245 -0.249846 -0.263671 -0.827198\n",
              "...              ...       ...       ...       ...\n",
              "2020-06-04  0.445946 -0.696244  0.029660  0.603972\n",
              "2020-06-05 -0.735005 -0.632562 -1.199961  0.639078\n",
              "2020-06-06 -0.853599 -0.660759 -0.423268 -0.249291\n",
              "2020-06-07  1.440673  0.066006 -2.699567  0.219518\n",
              "2020-06-08 -0.987208  0.965826  0.027003  0.239819\n",
              "\n",
              "[100 rows x 4 columns]"
            ]
          },
          "metadata": {
            "tags": []
          },
          "execution_count": 33
        }
      ]
    },
    {
      "cell_type": "code",
      "metadata": {
        "colab": {
          "base_uri": "https://localhost:8080/",
          "height": 424
        },
        "id": "PeEVnkKBEB2l",
        "outputId": "491c7bf4-eae2-42a6-c1ac-4e3296108ec0"
      },
      "source": [
        "df"
      ],
      "execution_count": 34,
      "outputs": [
        {
          "output_type": "execute_result",
          "data": {
            "text/html": [
              "<div>\n",
              "<style scoped>\n",
              "    .dataframe tbody tr th:only-of-type {\n",
              "        vertical-align: middle;\n",
              "    }\n",
              "\n",
              "    .dataframe tbody tr th {\n",
              "        vertical-align: top;\n",
              "    }\n",
              "\n",
              "    .dataframe thead th {\n",
              "        text-align: right;\n",
              "    }\n",
              "</style>\n",
              "<table border=\"1\" class=\"dataframe\">\n",
              "  <thead>\n",
              "    <tr style=\"text-align: right;\">\n",
              "      <th></th>\n",
              "      <th>A</th>\n",
              "      <th>B</th>\n",
              "      <th>C</th>\n",
              "      <th>D</th>\n",
              "      <th>E</th>\n",
              "    </tr>\n",
              "  </thead>\n",
              "  <tbody>\n",
              "    <tr>\n",
              "      <th>2020-03-01</th>\n",
              "      <td>-0.424361</td>\n",
              "      <td>1.324853</td>\n",
              "      <td>0.177166</td>\n",
              "      <td>-2.420857</td>\n",
              "      <td>0.395508</td>\n",
              "    </tr>\n",
              "    <tr>\n",
              "      <th>2020-03-02</th>\n",
              "      <td>-0.891346</td>\n",
              "      <td>0.418756</td>\n",
              "      <td>-0.576962</td>\n",
              "      <td>0.789255</td>\n",
              "      <td>0.603036</td>\n",
              "    </tr>\n",
              "    <tr>\n",
              "      <th>2020-03-03</th>\n",
              "      <td>-0.565622</td>\n",
              "      <td>0.237257</td>\n",
              "      <td>-1.238142</td>\n",
              "      <td>0.201801</td>\n",
              "      <td>-0.621756</td>\n",
              "    </tr>\n",
              "    <tr>\n",
              "      <th>2020-03-04</th>\n",
              "      <td>-0.622072</td>\n",
              "      <td>-0.970570</td>\n",
              "      <td>0.893486</td>\n",
              "      <td>1.205685</td>\n",
              "      <td>-0.061184</td>\n",
              "    </tr>\n",
              "    <tr>\n",
              "      <th>2020-03-05</th>\n",
              "      <td>-0.011453</td>\n",
              "      <td>1.207245</td>\n",
              "      <td>-0.249846</td>\n",
              "      <td>-0.263671</td>\n",
              "      <td>-0.827198</td>\n",
              "    </tr>\n",
              "    <tr>\n",
              "      <th>...</th>\n",
              "      <td>...</td>\n",
              "      <td>...</td>\n",
              "      <td>...</td>\n",
              "      <td>...</td>\n",
              "      <td>...</td>\n",
              "    </tr>\n",
              "    <tr>\n",
              "      <th>2020-06-04</th>\n",
              "      <td>0.151475</td>\n",
              "      <td>0.445946</td>\n",
              "      <td>-0.696244</td>\n",
              "      <td>0.029660</td>\n",
              "      <td>0.603972</td>\n",
              "    </tr>\n",
              "    <tr>\n",
              "      <th>2020-06-05</th>\n",
              "      <td>0.524293</td>\n",
              "      <td>-0.735005</td>\n",
              "      <td>-0.632562</td>\n",
              "      <td>-1.199961</td>\n",
              "      <td>0.639078</td>\n",
              "    </tr>\n",
              "    <tr>\n",
              "      <th>2020-06-06</th>\n",
              "      <td>-1.091008</td>\n",
              "      <td>-0.853599</td>\n",
              "      <td>-0.660759</td>\n",
              "      <td>-0.423268</td>\n",
              "      <td>-0.249291</td>\n",
              "    </tr>\n",
              "    <tr>\n",
              "      <th>2020-06-07</th>\n",
              "      <td>0.983981</td>\n",
              "      <td>1.440673</td>\n",
              "      <td>0.066006</td>\n",
              "      <td>-2.699567</td>\n",
              "      <td>0.219518</td>\n",
              "    </tr>\n",
              "    <tr>\n",
              "      <th>2020-06-08</th>\n",
              "      <td>0.736044</td>\n",
              "      <td>-0.987208</td>\n",
              "      <td>0.965826</td>\n",
              "      <td>0.027003</td>\n",
              "      <td>0.239819</td>\n",
              "    </tr>\n",
              "  </tbody>\n",
              "</table>\n",
              "<p>100 rows × 5 columns</p>\n",
              "</div>"
            ],
            "text/plain": [
              "                   A         B         C         D         E\n",
              "2020-03-01 -0.424361  1.324853  0.177166 -2.420857  0.395508\n",
              "2020-03-02 -0.891346  0.418756 -0.576962  0.789255  0.603036\n",
              "2020-03-03 -0.565622  0.237257 -1.238142  0.201801 -0.621756\n",
              "2020-03-04 -0.622072 -0.970570  0.893486  1.205685 -0.061184\n",
              "2020-03-05 -0.011453  1.207245 -0.249846 -0.263671 -0.827198\n",
              "...              ...       ...       ...       ...       ...\n",
              "2020-06-04  0.151475  0.445946 -0.696244  0.029660  0.603972\n",
              "2020-06-05  0.524293 -0.735005 -0.632562 -1.199961  0.639078\n",
              "2020-06-06 -1.091008 -0.853599 -0.660759 -0.423268 -0.249291\n",
              "2020-06-07  0.983981  1.440673  0.066006 -2.699567  0.219518\n",
              "2020-06-08  0.736044 -0.987208  0.965826  0.027003  0.239819\n",
              "\n",
              "[100 rows x 5 columns]"
            ]
          },
          "metadata": {
            "tags": []
          },
          "execution_count": 34
        }
      ]
    },
    {
      "cell_type": "code",
      "metadata": {
        "colab": {
          "base_uri": "https://localhost:8080/",
          "height": 331
        },
        "id": "ZpRtmAjnEEMk",
        "outputId": "5163439a-a0ed-45b8-becf-d0ed8d3ddf1d"
      },
      "source": [
        "\n",
        "\n",
        "series1 = pd.Series([1, 2, 3]) \n",
        "display('series1:', series1) \n",
        "series2 = pd.Series(['A', 'B', 'C']) \n",
        "display('series2:', series2) \n",
        "  \n",
        "# concatenating \n",
        "display('After concatenating:') \n",
        "display(pd.concat([series1, series2]))\n"
      ],
      "execution_count": 35,
      "outputs": [
        {
          "output_type": "display_data",
          "data": {
            "application/vnd.google.colaboratory.intrinsic+json": {
              "type": "string"
            },
            "text/plain": [
              "'series1:'"
            ]
          },
          "metadata": {
            "tags": []
          }
        },
        {
          "output_type": "display_data",
          "data": {
            "text/plain": [
              "0    1\n",
              "1    2\n",
              "2    3\n",
              "dtype: int64"
            ]
          },
          "metadata": {
            "tags": []
          }
        },
        {
          "output_type": "display_data",
          "data": {
            "application/vnd.google.colaboratory.intrinsic+json": {
              "type": "string"
            },
            "text/plain": [
              "'series2:'"
            ]
          },
          "metadata": {
            "tags": []
          }
        },
        {
          "output_type": "display_data",
          "data": {
            "text/plain": [
              "0    A\n",
              "1    B\n",
              "2    C\n",
              "dtype: object"
            ]
          },
          "metadata": {
            "tags": []
          }
        },
        {
          "output_type": "display_data",
          "data": {
            "application/vnd.google.colaboratory.intrinsic+json": {
              "type": "string"
            },
            "text/plain": [
              "'After concatenating:'"
            ]
          },
          "metadata": {
            "tags": []
          }
        },
        {
          "output_type": "display_data",
          "data": {
            "text/plain": [
              "0    1\n",
              "1    2\n",
              "2    3\n",
              "0    A\n",
              "1    B\n",
              "2    C\n",
              "dtype: object"
            ]
          },
          "metadata": {
            "tags": []
          }
        }
      ]
    },
    {
      "cell_type": "code",
      "metadata": {
        "id": "XJuQUmH2FjhA"
      },
      "source": [
        ""
      ],
      "execution_count": 35,
      "outputs": []
    },
    {
      "cell_type": "markdown",
      "metadata": {
        "id": "3is1Gv3MHdyc"
      },
      "source": [
        "END"
      ]
    },
    {
      "cell_type": "code",
      "metadata": {
        "id": "ueyuTBAPG02r"
      },
      "source": [
        ""
      ],
      "execution_count": 35,
      "outputs": []
    }
  ]
}